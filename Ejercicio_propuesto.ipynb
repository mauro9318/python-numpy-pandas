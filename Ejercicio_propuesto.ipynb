{
  "nbformat": 4,
  "nbformat_minor": 0,
  "metadata": {
    "colab": {
      "provenance": [],
      "authorship_tag": "ABX9TyNPtvKt0BXdpVtEklOoGAEa",
      "include_colab_link": true
    },
    "kernelspec": {
      "name": "python3",
      "display_name": "Python 3"
    },
    "language_info": {
      "name": "python"
    }
  },
  "cells": [
    {
      "cell_type": "markdown",
      "metadata": {
        "id": "view-in-github",
        "colab_type": "text"
      },
      "source": [
        "<a href=\"https://colab.research.google.com/github/mauro9318/python-numpy-pandas/blob/main/Ejercicio_propuesto.ipynb\" target=\"_parent\"><img src=\"https://colab.research.google.com/assets/colab-badge.svg\" alt=\"Open In Colab\"/></a>"
      ]
    },
    {
      "cell_type": "markdown",
      "source": [
        "Caso práctico de análisis de datos\n"
      ],
      "metadata": {
        "id": "-vYyEJYd_ZxK"
      }
    },
    {
      "cell_type": "code",
      "execution_count": 2,
      "metadata": {
        "colab": {
          "base_uri": "https://localhost:8080/"
        },
        "id": "mMFXg4ho_PCF",
        "outputId": "b79643c3-1310-4095-ab98-1391b4472c25"
      },
      "outputs": [
        {
          "output_type": "stream",
          "name": "stdout",
          "text": [
            "['Enero' 'Febrero' 'Marzo' 'Abril' 'Mayo' 'Junio' 'Julio' 'Agosto'\n",
            " 'Septiembre' 'Octubre' 'Noviembre' 'Diciembre']\n",
            "[150 200 250 300 220 210 180 190 230 240 280 300]\n",
            "[180 210 230 250 270 260 240 250 270 290 310 330]\n",
            "[200 220 240 260 280 300 320 340 360 380 400 420]\n"
          ]
        }
      ],
      "source": [
        "import numpy as np\n",
        "\n",
        "# Paso 1: Crear arrays con datos de ventas mensuales\n",
        "meses = np.array(['Enero', 'Febrero', 'Marzo', 'Abril', 'Mayo', 'Junio',\n",
        "                  'Julio', 'Agosto', 'Septiembre', 'Octubre', 'Noviembre', 'Diciembre'])\n",
        "ventas_A = np.array([150, 200, 250, 300, 220, 210, 180, 190, 230, 240, 280, 300])\n",
        "ventas_B = np.array([180, 210, 230, 250, 270, 260, 240, 250, 270, 290, 310, 330])\n",
        "ventas_C = np.array([200, 220, 240, 260, 280, 300, 320, 340, 360, 380, 400, 420])\n",
        "\n",
        "print(meses)\n",
        "print(ventas_A)\n",
        "print(ventas_B)\n",
        "print(ventas_C)"
      ]
    },
    {
      "cell_type": "code",
      "source": [
        "#Realizando cálculos de las ventas por mes\n",
        "\n",
        "ventas_totales_mes = ventas_A + ventas_B + ventas_C\n",
        "print(ventas_totales_mes)"
      ],
      "metadata": {
        "colab": {
          "base_uri": "https://localhost:8080/"
        },
        "id": "fQHJMtE9BbHz",
        "outputId": "610f90e3-36ec-4dba-cb95-57768a3230a9"
      },
      "execution_count": 4,
      "outputs": [
        {
          "output_type": "stream",
          "name": "stdout",
          "text": [
            "La suma total del mes de [ 530  630  720  810  770  770  740  780  860  910  990 1050]\n"
          ]
        }
      ]
    },
    {
      "cell_type": "code",
      "source": [
        "#Operaciones básicas con Numpy\n",
        "#Operaciones estadísticas\n",
        "\n",
        "#Precio promedio por productos\n",
        "media_ventas_A = np.mean(ventas_A)\n",
        "media_ventas_B = np.mean(ventas_B)\n",
        "media_ventas_C = np.mean(ventas_C)\n",
        "\n",
        "print(\"El precio promedio de el producto ventas_A es: \", \"{:.2f}\".format(media_ventas_A))\n",
        "print(\"El precio promedio de el producto ventas_B es: \", \"{:.2f}\".format(media_ventas_B))\n",
        "print(\"El precio promedio de el producto ventas_C es: \", \"{:.2f}\".format(media_ventas_C))\n",
        "\n",
        "print(\"-------------------------------------------------------------------------------------\")\n",
        "\n",
        "suma_ventas_A = np.sum(ventas_A)\n",
        "suma_ventas_B = np.sum(ventas_B)\n",
        "suma_ventas_C = np.sum(ventas_C)\n",
        "\n",
        "print(\"El total de ventas de el producto ventas_A es: \", \"{:.2f}\".format(suma_ventas_A))\n",
        "print(\"El total de ventas de el producto ventas_B es: \", \"{:.2f}\".format(suma_ventas_B))\n",
        "print(\"El total de ventas de el producto ventas_C es: \", \"{:.2f}\".format(suma_ventas_C))\n"
      ],
      "metadata": {
        "colab": {
          "base_uri": "https://localhost:8080/"
        },
        "id": "wEg2sCd-CkHb",
        "outputId": "013bd927-1e9e-4de3-d5be-2428ce045667"
      },
      "execution_count": 8,
      "outputs": [
        {
          "output_type": "stream",
          "name": "stdout",
          "text": [
            "El precio promedio de el producto ventas_A es:  229.17\n",
            "El precio promedio de el producto ventas_B es:  257.50\n",
            "El precio promedio de el producto ventas_C es:  310.00\n",
            "-------------------------------------------------------------------------------------\n",
            "El total de ventas de el producto ventas_A es:  2750.00\n",
            "El total de ventas de el producto ventas_B es:  3090.00\n",
            "El total de ventas de el producto ventas_C es:  3720.00\n"
          ]
        }
      ]
    }
  ]
}