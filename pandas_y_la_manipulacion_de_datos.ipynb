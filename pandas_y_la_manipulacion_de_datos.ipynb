{
  "nbformat": 4,
  "nbformat_minor": 0,
  "metadata": {
    "colab": {
      "provenance": [],
      "authorship_tag": "ABX9TyNXgbRSg4IhMCwdCBo16huN",
      "include_colab_link": true
    },
    "kernelspec": {
      "name": "python3",
      "display_name": "Python 3"
    },
    "language_info": {
      "name": "python"
    }
  },
  "cells": [
    {
      "cell_type": "markdown",
      "metadata": {
        "id": "view-in-github",
        "colab_type": "text"
      },
      "source": [
        "<a href=\"https://colab.research.google.com/github/mauro9318/python-numpy-pandas/blob/main/pandas_y_la_manipulacion_de_datos.ipynb\" target=\"_parent\"><img src=\"https://colab.research.google.com/assets/colab-badge.svg\" alt=\"Open In Colab\"/></a>"
      ]
    },
    {
      "cell_type": "markdown",
      "source": [
        "**PANDAS** es una biblioteca de código abierto escrito en python es ampliamente utilizado para la manipulación y el análisis de datos en python.\n",
        "Pandas posee estruturas de datos para su funcionamiento. Las dos estrucutras de datos principales que ofrece pandas son las ***SERIES*** y ***DATAFRAMES***.\n"
      ],
      "metadata": {
        "id": "maafVmgXnzfk"
      }
    },
    {
      "cell_type": "code",
      "source": [
        "import pandas as pd\n",
        "\n",
        "path = '/content/Online_Retail.csv'\n",
        "# Try reading the file with 'latin1' encoding\n",
        "retail_data = pd.read_csv(path, encoding='latin1')\n",
        "\n",
        "\n",
        "\n",
        "#print(retail_data.head()\n",
        "#print(type(retail_data))\n",
        "print(retail_data)\n"
      ],
      "metadata": {
        "colab": {
          "base_uri": "https://localhost:8080/"
        },
        "id": "dn6Is67GuUTs",
        "outputId": "e89131c6-aa5c-4fad-9a06-370176009113"
      },
      "execution_count": 5,
      "outputs": [
        {
          "output_type": "stream",
          "name": "stdout",
          "text": [
            "       InvoiceNo StockCode                          Description  Quantity  \\\n",
            "0         536365    85123A   WHITE HANGING HEART T-LIGHT HOLDER         6   \n",
            "1         536365     71053                  WHITE METAL LANTERN         6   \n",
            "2         536365    84406B       CREAM CUPID HEARTS COAT HANGER         8   \n",
            "3         536365    84029G  KNITTED UNION FLAG HOT WATER BOTTLE         6   \n",
            "4         536365    84029E       RED WOOLLY HOTTIE WHITE HEART.         6   \n",
            "...          ...       ...                                  ...       ...   \n",
            "541904    581587     22613          PACK OF 20 SPACEBOY NAPKINS        12   \n",
            "541905    581587     22899         CHILDREN'S APRON DOLLY GIRL          6   \n",
            "541906    581587     23254        CHILDRENS CUTLERY DOLLY GIRL          4   \n",
            "541907    581587     23255      CHILDRENS CUTLERY CIRCUS PARADE         4   \n",
            "541908    581587     22138        BAKING SET 9 PIECE RETROSPOT          3   \n",
            "\n",
            "          InvoiceDate  UnitPrice  CustomerID         Country  \n",
            "0        12/1/10 8:26       2.55     17850.0  United Kingdom  \n",
            "1        12/1/10 8:26       3.39     17850.0  United Kingdom  \n",
            "2        12/1/10 8:26       2.75     17850.0  United Kingdom  \n",
            "3        12/1/10 8:26       3.39     17850.0  United Kingdom  \n",
            "4        12/1/10 8:26       3.39     17850.0  United Kingdom  \n",
            "...               ...        ...         ...             ...  \n",
            "541904  12/9/11 12:50       0.85     12680.0          France  \n",
            "541905  12/9/11 12:50       2.10     12680.0          France  \n",
            "541906  12/9/11 12:50       4.15     12680.0          France  \n",
            "541907  12/9/11 12:50       4.15     12680.0          France  \n",
            "541908  12/9/11 12:50       4.95     12680.0          France  \n",
            "\n",
            "[541909 rows x 8 columns]\n"
          ]
        }
      ]
    },
    {
      "cell_type": "markdown",
      "source": [
        "***Crear DataFrames desde Arrays de NumPy***\n",
        "Pandas se integra perfectamente con NumPy, lo que permite crear DataFrames a partir de arrays de NumPy. Esto es útil cuando trabajamos con datos numéricos y necesitamos realizar análisis o transformaciones más complejas."
      ],
      "metadata": {
        "id": "j5P_a6TNxCmH"
      }
    },
    {
      "cell_type": "code",
      "source": [
        "import numpy as np\n",
        "import pandas as pd\n",
        "#Creación de un array con NUMPY\n",
        "df = np.array([[1,2,3],[4,5,6],[7,8,9]])\n",
        "\n",
        "#Creación de un DATAFRAME desde un array\n",
        "df_from_array = pd.DataFrame(df, columns=['A','B','C'])\n",
        "print(df_from_array)"
      ],
      "metadata": {
        "colab": {
          "base_uri": "https://localhost:8080/"
        },
        "id": "tA2vGWBaxFsU",
        "outputId": "efed518e-18ab-4826-b529-706e797991f8"
      },
      "execution_count": 6,
      "outputs": [
        {
          "output_type": "stream",
          "name": "stdout",
          "text": [
            "   A  B  C\n",
            "0  1  2  3\n",
            "1  4  5  6\n",
            "2  7  8  9\n"
          ]
        }
      ]
    },
    {
      "cell_type": "markdown",
      "source": [
        "***Crear DataFrames desde Listas de Python***\n",
        "También pueden crearse DataFrames a partir de listas de Python. Esto incluye listas de listas y listas de diccionarios."
      ],
      "metadata": {
        "id": "GK66g6X6x2Gr"
      }
    },
    {
      "cell_type": "code",
      "source": [
        "# Crear una lista de listas\n",
        "data = [[1, 'John', 22], [2, 'Anna', 24], [3, 'Mike', 21]]\n",
        "\n",
        "# Crear un DataFrame desde la lista de listas\n",
        "df_from_list = pd.DataFrame(data, columns=['ID', 'Name', 'Age'])\n",
        "\n",
        "# Mostrar el DataFrame\n",
        "print(df_from_list)"
      ],
      "metadata": {
        "colab": {
          "base_uri": "https://localhost:8080/"
        },
        "id": "LOJqAwKkx4lb",
        "outputId": "441e6333-324a-4f98-c59c-d4d18393f70a"
      },
      "execution_count": 7,
      "outputs": [
        {
          "output_type": "stream",
          "name": "stdout",
          "text": [
            "   ID  Name  Age\n",
            "0   1  John   22\n",
            "1   2  Anna   24\n",
            "2   3  Mike   21\n"
          ]
        }
      ]
    },
    {
      "cell_type": "code",
      "source": [
        "#LISTAS DE DICCIONARIOS\n",
        "\n",
        "# Crear una lista de diccionarios\n",
        "data = [{'ID': 1, 'Name': 'John', 'Age': 22}, {'ID': 2, 'Name': 'Anna', 'Age': 24}, {'ID': 3, 'Name': 'Mike', 'Age': 21}]\n",
        "\n",
        "# Crear un DataFrame desde la lista de diccionarios\n",
        "df_from_dict_list = pd.DataFrame(data)\n",
        "\n",
        "# Mostrar el DataFrame\n",
        "print(df_from_dict_list)"
      ],
      "metadata": {
        "colab": {
          "base_uri": "https://localhost:8080/"
        },
        "id": "3Iht_LUNyAVm",
        "outputId": "eedbc0e6-3f5f-4419-8fdf-278d0496b5d8"
      },
      "execution_count": 8,
      "outputs": [
        {
          "output_type": "stream",
          "name": "stdout",
          "text": [
            "   ID  Name  Age\n",
            "0   1  John   22\n",
            "1   2  Anna   24\n",
            "2   3  Mike   21\n"
          ]
        }
      ]
    }
  ]
}