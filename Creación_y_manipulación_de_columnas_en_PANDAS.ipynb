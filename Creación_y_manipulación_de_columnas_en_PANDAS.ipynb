{
  "nbformat": 4,
  "nbformat_minor": 0,
  "metadata": {
    "colab": {
      "provenance": [],
      "authorship_tag": "ABX9TyM4kNmWA8IjVWNPyIcZjojU",
      "include_colab_link": true
    },
    "kernelspec": {
      "name": "python3",
      "display_name": "Python 3"
    },
    "language_info": {
      "name": "python"
    }
  },
  "cells": [
    {
      "cell_type": "markdown",
      "metadata": {
        "id": "view-in-github",
        "colab_type": "text"
      },
      "source": [
        "<a href=\"https://colab.research.google.com/github/mauro9318/python-numpy-pandas/blob/main/Creaci%C3%B3n_y_manipulaci%C3%B3n_de_columnas_en_PANDAS.ipynb\" target=\"_parent\"><img src=\"https://colab.research.google.com/assets/colab-badge.svg\" alt=\"Open In Colab\"/></a>"
      ]
    },
    {
      "cell_type": "code",
      "execution_count": 2,
      "metadata": {
        "colab": {
          "base_uri": "https://localhost:8080/"
        },
        "id": "QDi9FOqNgy4E",
        "outputId": "7c8d15a9-dd0a-4079-e435-b9101a2b9168"
      },
      "outputs": [
        {
          "output_type": "stream",
          "name": "stdout",
          "text": [
            "  InvoiceNo StockCode                          Description  Quantity  \\\n",
            "0    536365    85123A   WHITE HANGING HEART T-LIGHT HOLDER         6   \n",
            "1    536365     71053                  WHITE METAL LANTERN         6   \n",
            "2    536365    84406B       CREAM CUPID HEARTS COAT HANGER         8   \n",
            "3    536365    84029G  KNITTED UNION FLAG HOT WATER BOTTLE         6   \n",
            "4    536365    84029E       RED WOOLLY HOTTIE WHITE HEART.         6   \n",
            "\n",
            "    InvoiceDate  UnitPrice  CustomerID         Country  TotalPrice  \n",
            "0  12/1/10 8:26       2.55     17850.0  United Kingdom       15.30  \n",
            "1  12/1/10 8:26       3.39     17850.0  United Kingdom       20.34  \n",
            "2  12/1/10 8:26       2.75     17850.0  United Kingdom       22.00  \n",
            "3  12/1/10 8:26       3.39     17850.0  United Kingdom       20.34  \n",
            "4  12/1/10 8:26       3.39     17850.0  United Kingdom       20.34  \n"
          ]
        }
      ],
      "source": [
        "import pandas as pd\n",
        "\n",
        "df = pd.read_csv('/content/Online_Retail.csv', encoding='latin-1')\n",
        "\n",
        "#Código para la generación de nuevas columnas(Manipulación de datos)\n",
        "\n",
        "df['TotalPrice'] = df['Quantity'] * df['UnitPrice'] #La nueva columna almacenara los datos del producto de\n",
        "                                                    #Quantity * UnitPrice\n",
        "\n",
        "print(df.head())\n"
      ]
    },
    {
      "cell_type": "code",
      "source": [
        "df['HighValue'] = df['TotalPrice']>16#nueva columna que almacena datos booleanos\n",
        "print(df.head(10))"
      ],
      "metadata": {
        "colab": {
          "base_uri": "https://localhost:8080/"
        },
        "id": "YExY2q8dit8q",
        "outputId": "47653425-8db2-44e5-d24c-1574c4821737"
      },
      "execution_count": 5,
      "outputs": [
        {
          "output_type": "stream",
          "name": "stdout",
          "text": [
            "  InvoiceNo StockCode                          Description  Quantity  \\\n",
            "0    536365    85123A   WHITE HANGING HEART T-LIGHT HOLDER         6   \n",
            "1    536365     71053                  WHITE METAL LANTERN         6   \n",
            "2    536365    84406B       CREAM CUPID HEARTS COAT HANGER         8   \n",
            "3    536365    84029G  KNITTED UNION FLAG HOT WATER BOTTLE         6   \n",
            "4    536365    84029E       RED WOOLLY HOTTIE WHITE HEART.         6   \n",
            "5    536365     22752         SET 7 BABUSHKA NESTING BOXES         2   \n",
            "6    536365     21730    GLASS STAR FROSTED T-LIGHT HOLDER         6   \n",
            "7    536366     22633               HAND WARMER UNION JACK         6   \n",
            "8    536366     22632            HAND WARMER RED POLKA DOT         6   \n",
            "9    536367     84879        ASSORTED COLOUR BIRD ORNAMENT        32   \n",
            "\n",
            "    InvoiceDate  UnitPrice  CustomerID         Country  TotalPrice  HighValue  \n",
            "0  12/1/10 8:26       2.55     17850.0  United Kingdom       15.30      False  \n",
            "1  12/1/10 8:26       3.39     17850.0  United Kingdom       20.34       True  \n",
            "2  12/1/10 8:26       2.75     17850.0  United Kingdom       22.00       True  \n",
            "3  12/1/10 8:26       3.39     17850.0  United Kingdom       20.34       True  \n",
            "4  12/1/10 8:26       3.39     17850.0  United Kingdom       20.34       True  \n",
            "5  12/1/10 8:26       7.65     17850.0  United Kingdom       15.30      False  \n",
            "6  12/1/10 8:26       4.25     17850.0  United Kingdom       25.50       True  \n",
            "7  12/1/10 8:28       1.85     17850.0  United Kingdom       11.10      False  \n",
            "8  12/1/10 8:28       1.85     17850.0  United Kingdom       11.10      False  \n",
            "9  12/1/10 8:34       1.69     13047.0  United Kingdom       54.08       True  \n"
          ]
        }
      ]
    },
    {
      "cell_type": "code",
      "source": [
        "print(df.info())"
      ],
      "metadata": {
        "colab": {
          "base_uri": "https://localhost:8080/"
        },
        "id": "Yfw9bR8ljS0r",
        "outputId": "26f88822-94da-47c9-cc63-f7533b46ef86"
      },
      "execution_count": 6,
      "outputs": [
        {
          "output_type": "stream",
          "name": "stdout",
          "text": [
            "<class 'pandas.core.frame.DataFrame'>\n",
            "RangeIndex: 541909 entries, 0 to 541908\n",
            "Data columns (total 10 columns):\n",
            " #   Column       Non-Null Count   Dtype  \n",
            "---  ------       --------------   -----  \n",
            " 0   InvoiceNo    541909 non-null  object \n",
            " 1   StockCode    541909 non-null  object \n",
            " 2   Description  540455 non-null  object \n",
            " 3   Quantity     541909 non-null  int64  \n",
            " 4   InvoiceDate  541909 non-null  object \n",
            " 5   UnitPrice    541909 non-null  float64\n",
            " 6   CustomerID   406829 non-null  float64\n",
            " 7   Country      541909 non-null  object \n",
            " 8   TotalPrice   541909 non-null  float64\n",
            " 9   HighValue    541909 non-null  bool   \n",
            "dtypes: bool(1), float64(3), int64(1), object(5)\n",
            "memory usage: 37.7+ MB\n",
            "None\n"
          ]
        }
      ]
    },
    {
      "cell_type": "code",
      "source": [
        "df['InvoiceDate'] = pd.to_datetime(df['InvoiceDate'])#Transformación del tipo de dato\n",
        "                                                      #de la columna InvoiceDate\n",
        "\n",
        "print(df.info())"
      ],
      "metadata": {
        "colab": {
          "base_uri": "https://localhost:8080/"
        },
        "id": "qXg8QYbqjhBJ",
        "outputId": "e82a2a9d-62ed-4b38-cea4-81d8daa9ed74"
      },
      "execution_count": 7,
      "outputs": [
        {
          "output_type": "stream",
          "name": "stderr",
          "text": [
            "<ipython-input-7-d6460f928323>:1: UserWarning: Could not infer format, so each element will be parsed individually, falling back to `dateutil`. To ensure parsing is consistent and as-expected, please specify a format.\n",
            "  df['InvoiceDate'] = pd.to_datetime(df['InvoiceDate'])#Transformación del tipo de dato\n"
          ]
        },
        {
          "output_type": "stream",
          "name": "stdout",
          "text": [
            "<class 'pandas.core.frame.DataFrame'>\n",
            "RangeIndex: 541909 entries, 0 to 541908\n",
            "Data columns (total 10 columns):\n",
            " #   Column       Non-Null Count   Dtype         \n",
            "---  ------       --------------   -----         \n",
            " 0   InvoiceNo    541909 non-null  object        \n",
            " 1   StockCode    541909 non-null  object        \n",
            " 2   Description  540455 non-null  object        \n",
            " 3   Quantity     541909 non-null  int64         \n",
            " 4   InvoiceDate  541909 non-null  datetime64[ns]\n",
            " 5   UnitPrice    541909 non-null  float64       \n",
            " 6   CustomerID   406829 non-null  float64       \n",
            " 7   Country      541909 non-null  object        \n",
            " 8   TotalPrice   541909 non-null  float64       \n",
            " 9   HighValue    541909 non-null  bool          \n",
            "dtypes: bool(1), datetime64[ns](1), float64(3), int64(1), object(4)\n",
            "memory usage: 37.7+ MB\n",
            "None\n"
          ]
        }
      ]
    },
    {
      "cell_type": "code",
      "source": [
        "#En Pandas tambien se puede usar la función Lambda\n",
        "#Función que se aplica a cada una de las filas\n",
        "\n",
        "df['DiscountPrice'] = df['UnitPrice'].apply(lambda x: x*0.95) # la nueva columna\n",
        "print(df.head())                                              #toma el valor de unit price y lo multiplica por 0.95"
      ],
      "metadata": {
        "colab": {
          "base_uri": "https://localhost:8080/"
        },
        "id": "nYNfi_abj3BS",
        "outputId": "3db1ecb5-1e9c-4534-82b7-3c5425cacaea"
      },
      "execution_count": 8,
      "outputs": [
        {
          "output_type": "stream",
          "name": "stdout",
          "text": [
            "  InvoiceNo StockCode                          Description  Quantity  \\\n",
            "0    536365    85123A   WHITE HANGING HEART T-LIGHT HOLDER         6   \n",
            "1    536365     71053                  WHITE METAL LANTERN         6   \n",
            "2    536365    84406B       CREAM CUPID HEARTS COAT HANGER         8   \n",
            "3    536365    84029G  KNITTED UNION FLAG HOT WATER BOTTLE         6   \n",
            "4    536365    84029E       RED WOOLLY HOTTIE WHITE HEART.         6   \n",
            "\n",
            "          InvoiceDate  UnitPrice  CustomerID         Country  TotalPrice  \\\n",
            "0 2010-12-01 08:26:00       2.55     17850.0  United Kingdom       15.30   \n",
            "1 2010-12-01 08:26:00       3.39     17850.0  United Kingdom       20.34   \n",
            "2 2010-12-01 08:26:00       2.75     17850.0  United Kingdom       22.00   \n",
            "3 2010-12-01 08:26:00       3.39     17850.0  United Kingdom       20.34   \n",
            "4 2010-12-01 08:26:00       3.39     17850.0  United Kingdom       20.34   \n",
            "\n",
            "   HighValue  DiscountPrice  \n",
            "0      False         2.4225  \n",
            "1       True         3.2205  \n",
            "2       True         2.6125  \n",
            "3       True         3.2205  \n",
            "4       True         3.2205  \n"
          ]
        }
      ]
    },
    {
      "cell_type": "code",
      "source": [
        "#Creación de la función\n",
        "\n",
        "def categorize_price(price):\n",
        "  if price > 50:\n",
        "    return 'HIGH'\n",
        "  elif price < 20:\n",
        "    return 'Medium'\n",
        "  else:\n",
        "    return 'LOW'\n",
        "\n",
        "#Creacion de la nueva columna que categorizará los precios\n",
        "\n",
        "df['PriceCategory'] = df['UnitPrice'].apply(categorize_price) #Aplicación de la funcion\n",
        "print(df.head())                                              #ya declarada a cada una de las filas de UnitPrice"
      ],
      "metadata": {
        "colab": {
          "base_uri": "https://localhost:8080/"
        },
        "id": "a1LC2LdOko_q",
        "outputId": "d9307e87-f352-427d-8213-e1428400f628"
      },
      "execution_count": 11,
      "outputs": [
        {
          "output_type": "stream",
          "name": "stdout",
          "text": [
            "  InvoiceNo StockCode                          Description  Quantity  \\\n",
            "0    536365    85123A   WHITE HANGING HEART T-LIGHT HOLDER         6   \n",
            "1    536365     71053                  WHITE METAL LANTERN         6   \n",
            "2    536365    84406B       CREAM CUPID HEARTS COAT HANGER         8   \n",
            "3    536365    84029G  KNITTED UNION FLAG HOT WATER BOTTLE         6   \n",
            "4    536365    84029E       RED WOOLLY HOTTIE WHITE HEART.         6   \n",
            "\n",
            "          InvoiceDate  UnitPrice  CustomerID         Country  TotalPrice  \\\n",
            "0 2010-12-01 08:26:00       2.55     17850.0  United Kingdom       15.30   \n",
            "1 2010-12-01 08:26:00       3.39     17850.0  United Kingdom       20.34   \n",
            "2 2010-12-01 08:26:00       2.75     17850.0  United Kingdom       22.00   \n",
            "3 2010-12-01 08:26:00       3.39     17850.0  United Kingdom       20.34   \n",
            "4 2010-12-01 08:26:00       3.39     17850.0  United Kingdom       20.34   \n",
            "\n",
            "   HighValue  DiscountPrice PriceCategory  \n",
            "0      False         2.4225        Medium  \n",
            "1       True         3.2205        Medium  \n",
            "2       True         2.6125        Medium  \n",
            "3       True         3.2205        Medium  \n",
            "4       True         3.2205        Medium  \n"
          ]
        }
      ]
    }
  ]
}