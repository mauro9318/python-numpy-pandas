{
  "nbformat": 4,
  "nbformat_minor": 0,
  "metadata": {
    "colab": {
      "provenance": [],
      "authorship_tag": "ABX9TyPsamZ3zzeFPzAs6B61XSfU",
      "include_colab_link": true
    },
    "kernelspec": {
      "name": "python3",
      "display_name": "Python 3"
    },
    "language_info": {
      "name": "python"
    }
  },
  "cells": [
    {
      "cell_type": "markdown",
      "metadata": {
        "id": "view-in-github",
        "colab_type": "text"
      },
      "source": [
        "<a href=\"https://colab.research.google.com/github/mauro9318/python-numpy-pandas/blob/main/Fusi%C3%B3n_de_dataFrames.ipynb\" target=\"_parent\"><img src=\"https://colab.research.google.com/assets/colab-badge.svg\" alt=\"Open In Colab\"/></a>"
      ]
    },
    {
      "cell_type": "code",
      "execution_count": 1,
      "metadata": {
        "colab": {
          "base_uri": "https://localhost:8080/"
        },
        "id": "wVYj1ubUyekq",
        "outputId": "48ab7d5b-1ed1-429a-9945-af08856dfb12"
      },
      "outputs": [
        {
          "output_type": "stream",
          "name": "stdout",
          "text": [
            "  key  value1\n",
            "0   A       1\n",
            "1   B       2\n",
            "2   C       3\n",
            "  key  value2\n",
            "0   B       4\n",
            "1   C       5\n",
            "2   D       6\n"
          ]
        }
      ],
      "source": [
        "import pandas as pd\n",
        "\n",
        "#Creación de DataFrames de ejemplo\n",
        "df1 = pd.DataFrame({'key': ['A','B','C'], 'value1': [1, 2, 3]})\n",
        "df2 = pd.DataFrame({'key': ['B','C','D'], 'value2': [4, 5, 6]})\n",
        "\n",
        "print(df1)\n",
        "print(df2)\n",
        "\n"
      ]
    },
    {
      "cell_type": "code",
      "source": [
        "#InnerJOin\n",
        "\n",
        "ineer_merged = pd.merge(df1, df2, on='key', how='inner')#se realiza considerando la columna key y de la manera inner\n",
        "print(ineer_merged)"
      ],
      "metadata": {
        "colab": {
          "base_uri": "https://localhost:8080/"
        },
        "id": "-OxbJuuyzzm1",
        "outputId": "7c23b166-4d68-4509-e75a-a221384f9820"
      },
      "execution_count": 2,
      "outputs": [
        {
          "output_type": "stream",
          "name": "stdout",
          "text": [
            "  key  value1  value2\n",
            "0   B       2       4\n",
            "1   C       3       5\n"
          ]
        }
      ]
    },
    {
      "cell_type": "markdown",
      "source": [
        "El resultado muestra los value para B y C, que son datos que comparten."
      ],
      "metadata": {
        "id": "bGHsJKlY0OC2"
      }
    },
    {
      "cell_type": "code",
      "source": [
        "outer_merged = pd.merge(df1, df2, on='key', how='outer')#se realiza considerando la columna key y de la manera outer\n",
        "print(outer_merged)"
      ],
      "metadata": {
        "colab": {
          "base_uri": "https://localhost:8080/"
        },
        "id": "ImkX94qU0W6U",
        "outputId": "4647ab33-0df7-49f2-8748-03412ce1d82a"
      },
      "execution_count": 3,
      "outputs": [
        {
          "output_type": "stream",
          "name": "stdout",
          "text": [
            "  key  value1  value2\n",
            "0   A     1.0     NaN\n",
            "1   B     2.0     4.0\n",
            "2   C     3.0     5.0\n",
            "3   D     NaN     6.0\n"
          ]
        }
      ]
    },
    {
      "cell_type": "markdown",
      "source": [
        "El resultado muestra values para todos A,B,C,D. Los datos que no comparten se consideran NaN"
      ],
      "metadata": {
        "id": "wNLpDihQ06m2"
      }
    },
    {
      "cell_type": "code",
      "source": [
        "left_merged = pd.merge(df1, df2, on='key', how='left')#se realiza considerando la columna key y de la manera left\n",
        "print(left_merged)"
      ],
      "metadata": {
        "colab": {
          "base_uri": "https://localhost:8080/"
        },
        "id": "FBE0IADb1GAk",
        "outputId": "5c1f7fc2-bfc4-4390-90ed-235bdd2ec5d4"
      },
      "execution_count": 4,
      "outputs": [
        {
          "output_type": "stream",
          "name": "stdout",
          "text": [
            "  key  value1  value2\n",
            "0   A       1     NaN\n",
            "1   B       2     4.0\n",
            "2   C       3     5.0\n"
          ]
        }
      ]
    },
    {
      "cell_type": "code",
      "source": [
        "right_merged = pd.merge(df1, df2, on='key', how='right')#se realiza considerando la columna key y de la manera right\n",
        "print(right_merged)"
      ],
      "metadata": {
        "colab": {
          "base_uri": "https://localhost:8080/"
        },
        "id": "KiHDExk21N3F",
        "outputId": "b064ce1c-ed55-47e8-f15c-37e630381ffb"
      },
      "execution_count": 5,
      "outputs": [
        {
          "output_type": "stream",
          "name": "stdout",
          "text": [
            "  key  value1  value2\n",
            "0   B     2.0       4\n",
            "1   C     3.0       5\n",
            "2   D     NaN       6\n"
          ]
        }
      ]
    },
    {
      "cell_type": "markdown",
      "source": [
        "La concatenación de dataframes se lo puede realizar de manera horizontal y vertical"
      ],
      "metadata": {
        "id": "YH8KZJYp1bEc"
      }
    },
    {
      "cell_type": "code",
      "source": [
        "df3 = pd.DataFrame({'A': ['A0','A1','A2'], 'B': ['B0','B1','B2']})\n",
        "df4 = pd.DataFrame({'A': ['A3','A4','A5'], 'B': ['B3','B4','B5']})\n",
        "print(df3)\n",
        "print(df4)"
      ],
      "metadata": {
        "colab": {
          "base_uri": "https://localhost:8080/"
        },
        "id": "YZaLpHHf1lQl",
        "outputId": "5c993378-370a-4002-e0f9-76f7754e2049"
      },
      "execution_count": 6,
      "outputs": [
        {
          "output_type": "stream",
          "name": "stdout",
          "text": [
            "    A   B\n",
            "0  A0  B0\n",
            "1  A1  B1\n",
            "2  A2  B2\n",
            "    A   B\n",
            "0  A3  B3\n",
            "1  A4  B4\n",
            "2  A5  B5\n"
          ]
        }
      ]
    },
    {
      "cell_type": "code",
      "source": [
        "#Concatenacion vertical\n",
        "vertical_concat = pd.concat([df3, df4])\n",
        "print(vertical_concat)"
      ],
      "metadata": {
        "colab": {
          "base_uri": "https://localhost:8080/"
        },
        "id": "j3A4bKmq1_IF",
        "outputId": "213be246-7a2c-45b1-977f-66ebf3a8f9f9"
      },
      "execution_count": 7,
      "outputs": [
        {
          "output_type": "stream",
          "name": "stdout",
          "text": [
            "    A   B\n",
            "0  A0  B0\n",
            "1  A1  B1\n",
            "2  A2  B2\n",
            "0  A3  B3\n",
            "1  A4  B4\n",
            "2  A5  B5\n"
          ]
        }
      ]
    },
    {
      "cell_type": "code",
      "source": [
        "#Concatenación horizontal\n",
        "horizontal_concat = pd.concat([df3, df4], axis=1)#para realizar horizontal el axis ==1\n",
        "print(horizontal_concat)"
      ],
      "metadata": {
        "colab": {
          "base_uri": "https://localhost:8080/"
        },
        "id": "6xjudLFx2KNb",
        "outputId": "c8987a07-0a01-40d9-f2e3-42c550a68965"
      },
      "execution_count": 8,
      "outputs": [
        {
          "output_type": "stream",
          "name": "stdout",
          "text": [
            "    A   B   A   B\n",
            "0  A0  B0  A3  B3\n",
            "1  A1  B1  A4  B4\n",
            "2  A2  B2  A5  B5\n"
          ]
        }
      ]
    },
    {
      "cell_type": "code",
      "source": [
        "df5 = pd.DataFrame({'A': ['A0','A1','A2'], 'B': ['B0','B1','B2']}, index=['k0','k1','k2'])\n",
        "df6 = pd.DataFrame({'C': ['C0','C1','C2'], 'D': ['D0','D1','D2']}, index=['k0','k1','k2'])\n",
        "print(df5)\n",
        "print(df6)"
      ],
      "metadata": {
        "colab": {
          "base_uri": "https://localhost:8080/"
        },
        "id": "_sYwMson2gtc",
        "outputId": "7f9db2b0-ac9d-4389-ebbd-2d68dd7321f5"
      },
      "execution_count": 9,
      "outputs": [
        {
          "output_type": "stream",
          "name": "stdout",
          "text": [
            "     A   B\n",
            "k0  A0  B0\n",
            "k1  A1  B1\n",
            "k2  A2  B2\n",
            "     C   D\n",
            "k0  C0  D0\n",
            "k1  C1  D1\n",
            "k2  C2  D2\n"
          ]
        }
      ]
    },
    {
      "cell_type": "code",
      "source": [
        "#join\n",
        "join_df = df5.join(df6, how='inner')\n",
        "print(join_df)\n",
        "#apila las filas y columnas considerando el index"
      ],
      "metadata": {
        "colab": {
          "base_uri": "https://localhost:8080/"
        },
        "id": "VPILmWyh3Ib8",
        "outputId": "53dea561-073e-4bcc-d832-6a83d720b5a7"
      },
      "execution_count": 10,
      "outputs": [
        {
          "output_type": "stream",
          "name": "stdout",
          "text": [
            "     A   B   C   D\n",
            "k0  A0  B0  C0  D0\n",
            "k1  A1  B1  C1  D1\n",
            "k2  A2  B2  C2  D2\n"
          ]
        }
      ]
    }
  ]
}