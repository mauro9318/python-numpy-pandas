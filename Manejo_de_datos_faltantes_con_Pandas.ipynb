{
  "nbformat": 4,
  "nbformat_minor": 0,
  "metadata": {
    "colab": {
      "provenance": [],
      "authorship_tag": "ABX9TyOdi1N4C2fAlRCcwaviFnBO",
      "include_colab_link": true
    },
    "kernelspec": {
      "name": "python3",
      "display_name": "Python 3"
    },
    "language_info": {
      "name": "python"
    }
  },
  "cells": [
    {
      "cell_type": "markdown",
      "metadata": {
        "id": "view-in-github",
        "colab_type": "text"
      },
      "source": [
        "<a href=\"https://colab.research.google.com/github/mauro9318/python-numpy-pandas/blob/main/Manejo_de_datos_faltantes_con_Pandas.ipynb\" target=\"_parent\"><img src=\"https://colab.research.google.com/assets/colab-badge.svg\" alt=\"Open In Colab\"/></a>"
      ]
    },
    {
      "cell_type": "code",
      "execution_count": 1,
      "metadata": {
        "colab": {
          "base_uri": "https://localhost:8080/"
        },
        "id": "p2HlGy14nPG1",
        "outputId": "56c0fc39-f28a-4bdc-e6bf-6d414dd6018d"
      },
      "outputs": [
        {
          "output_type": "stream",
          "name": "stdout",
          "text": [
            "       InvoiceNo StockCode                          Description  Quantity  \\\n",
            "0         536365    85123A   WHITE HANGING HEART T-LIGHT HOLDER         6   \n",
            "1         536365     71053                  WHITE METAL LANTERN         6   \n",
            "2         536365    84406B       CREAM CUPID HEARTS COAT HANGER         8   \n",
            "3         536365    84029G  KNITTED UNION FLAG HOT WATER BOTTLE         6   \n",
            "4         536365    84029E       RED WOOLLY HOTTIE WHITE HEART.         6   \n",
            "...          ...       ...                                  ...       ...   \n",
            "541904    581587     22613          PACK OF 20 SPACEBOY NAPKINS        12   \n",
            "541905    581587     22899         CHILDREN'S APRON DOLLY GIRL          6   \n",
            "541906    581587     23254        CHILDRENS CUTLERY DOLLY GIRL          4   \n",
            "541907    581587     23255      CHILDRENS CUTLERY CIRCUS PARADE         4   \n",
            "541908    581587     22138        BAKING SET 9 PIECE RETROSPOT          3   \n",
            "\n",
            "          InvoiceDate  UnitPrice  CustomerID         Country  \n",
            "0        12/1/10 8:26       2.55     17850.0  United Kingdom  \n",
            "1        12/1/10 8:26       3.39     17850.0  United Kingdom  \n",
            "2        12/1/10 8:26       2.75     17850.0  United Kingdom  \n",
            "3        12/1/10 8:26       3.39     17850.0  United Kingdom  \n",
            "4        12/1/10 8:26       3.39     17850.0  United Kingdom  \n",
            "...               ...        ...         ...             ...  \n",
            "541904  12/9/11 12:50       0.85     12680.0          France  \n",
            "541905  12/9/11 12:50       2.10     12680.0          France  \n",
            "541906  12/9/11 12:50       4.15     12680.0          France  \n",
            "541907  12/9/11 12:50       4.15     12680.0          France  \n",
            "541908  12/9/11 12:50       4.95     12680.0          France  \n",
            "\n",
            "[541909 rows x 8 columns]\n"
          ]
        }
      ],
      "source": [
        "import pandas as pd\n",
        "\n",
        "path = '/content/Online_Retail.csv'\n",
        "retail_data = pd.read_csv(path, encoding='latin-1')\n",
        "print(retail_data)"
      ]
    },
    {
      "cell_type": "code",
      "source": [
        "missing_data = retail_data.isna()#sentencia que permite visualizar los registros cuyo dato no esta disponible\n",
        "print(missing_data)"
      ],
      "metadata": {
        "colab": {
          "base_uri": "https://localhost:8080/"
        },
        "id": "yaEo_ZRIn_Tz",
        "outputId": "827a2b6a-908b-4d68-b69e-6e2c61e5e857"
      },
      "execution_count": 2,
      "outputs": [
        {
          "output_type": "stream",
          "name": "stdout",
          "text": [
            "        InvoiceNo  StockCode  Description  Quantity  InvoiceDate  UnitPrice  \\\n",
            "0           False      False        False     False        False      False   \n",
            "1           False      False        False     False        False      False   \n",
            "2           False      False        False     False        False      False   \n",
            "3           False      False        False     False        False      False   \n",
            "4           False      False        False     False        False      False   \n",
            "...           ...        ...          ...       ...          ...        ...   \n",
            "541904      False      False        False     False        False      False   \n",
            "541905      False      False        False     False        False      False   \n",
            "541906      False      False        False     False        False      False   \n",
            "541907      False      False        False     False        False      False   \n",
            "541908      False      False        False     False        False      False   \n",
            "\n",
            "        CustomerID  Country  \n",
            "0            False    False  \n",
            "1            False    False  \n",
            "2            False    False  \n",
            "3            False    False  \n",
            "4            False    False  \n",
            "...            ...      ...  \n",
            "541904       False    False  \n",
            "541905       False    False  \n",
            "541906       False    False  \n",
            "541907       False    False  \n",
            "541908       False    False  \n",
            "\n",
            "[541909 rows x 8 columns]\n"
          ]
        }
      ]
    },
    {
      "cell_type": "code",
      "source": [
        "#Contar el número de dato faltantes\n",
        "\n",
        "missing_data_count = missing_data.sum()#Conteo de datos faltantes por columna\n",
        "print(missing_data_count)"
      ],
      "metadata": {
        "colab": {
          "base_uri": "https://localhost:8080/"
        },
        "id": "ls7T39W8oXoq",
        "outputId": "d23cbf52-0022-4243-dbd9-45153784e68b"
      },
      "execution_count": 3,
      "outputs": [
        {
          "output_type": "stream",
          "name": "stdout",
          "text": [
            "InvoiceNo           0\n",
            "StockCode           0\n",
            "Description      1454\n",
            "Quantity            0\n",
            "InvoiceDate         0\n",
            "UnitPrice           0\n",
            "CustomerID     135080\n",
            "Country             0\n",
            "dtype: int64\n"
          ]
        }
      ]
    },
    {
      "cell_type": "code",
      "source": [
        "#Una opción para realizar sobre estas filas es la de eliminarlas\n",
        "\n",
        "no_missing_data = retail_data.dropna()#\n",
        "print('Datos sin filas con valores faltantes \\n',no_missing_data)"
      ],
      "metadata": {
        "colab": {
          "base_uri": "https://localhost:8080/"
        },
        "id": "zd5DdExCos4S",
        "outputId": "c3c8bccd-c71d-47a4-d6e6-0ddcb5119e71"
      },
      "execution_count": 4,
      "outputs": [
        {
          "output_type": "stream",
          "name": "stdout",
          "text": [
            "Datos sin filas con valores faltantes \n",
            "        InvoiceNo StockCode                          Description  Quantity  \\\n",
            "0         536365    85123A   WHITE HANGING HEART T-LIGHT HOLDER         6   \n",
            "1         536365     71053                  WHITE METAL LANTERN         6   \n",
            "2         536365    84406B       CREAM CUPID HEARTS COAT HANGER         8   \n",
            "3         536365    84029G  KNITTED UNION FLAG HOT WATER BOTTLE         6   \n",
            "4         536365    84029E       RED WOOLLY HOTTIE WHITE HEART.         6   \n",
            "...          ...       ...                                  ...       ...   \n",
            "541904    581587     22613          PACK OF 20 SPACEBOY NAPKINS        12   \n",
            "541905    581587     22899         CHILDREN'S APRON DOLLY GIRL          6   \n",
            "541906    581587     23254        CHILDRENS CUTLERY DOLLY GIRL          4   \n",
            "541907    581587     23255      CHILDRENS CUTLERY CIRCUS PARADE         4   \n",
            "541908    581587     22138        BAKING SET 9 PIECE RETROSPOT          3   \n",
            "\n",
            "          InvoiceDate  UnitPrice  CustomerID         Country  \n",
            "0        12/1/10 8:26       2.55     17850.0  United Kingdom  \n",
            "1        12/1/10 8:26       3.39     17850.0  United Kingdom  \n",
            "2        12/1/10 8:26       2.75     17850.0  United Kingdom  \n",
            "3        12/1/10 8:26       3.39     17850.0  United Kingdom  \n",
            "4        12/1/10 8:26       3.39     17850.0  United Kingdom  \n",
            "...               ...        ...         ...             ...  \n",
            "541904  12/9/11 12:50       0.85     12680.0          France  \n",
            "541905  12/9/11 12:50       2.10     12680.0          France  \n",
            "541906  12/9/11 12:50       4.15     12680.0          France  \n",
            "541907  12/9/11 12:50       4.15     12680.0          France  \n",
            "541908  12/9/11 12:50       4.95     12680.0          France  \n",
            "\n",
            "[406829 rows x 8 columns]\n"
          ]
        }
      ]
    },
    {
      "cell_type": "code",
      "source": [
        "#Eliminación de columnas con datos faltantes\n",
        "\n",
        "no_missing_columns = retail_data.dropna(axis = 1)#Eliminación de columnas\n",
        "print('Datos sin columnas con valores faltantes \\n',no_missing_columns)"
      ],
      "metadata": {
        "colab": {
          "base_uri": "https://localhost:8080/"
        },
        "id": "DuVEcHz7pcyb",
        "outputId": "d2a36716-aee2-45a0-8c72-8dd26b634670"
      },
      "execution_count": 5,
      "outputs": [
        {
          "output_type": "stream",
          "name": "stdout",
          "text": [
            "Datos sin columnas con valores faltantes \n",
            "        InvoiceNo StockCode  Quantity    InvoiceDate  UnitPrice         Country\n",
            "0         536365    85123A         6   12/1/10 8:26       2.55  United Kingdom\n",
            "1         536365     71053         6   12/1/10 8:26       3.39  United Kingdom\n",
            "2         536365    84406B         8   12/1/10 8:26       2.75  United Kingdom\n",
            "3         536365    84029G         6   12/1/10 8:26       3.39  United Kingdom\n",
            "4         536365    84029E         6   12/1/10 8:26       3.39  United Kingdom\n",
            "...          ...       ...       ...            ...        ...             ...\n",
            "541904    581587     22613        12  12/9/11 12:50       0.85          France\n",
            "541905    581587     22899         6  12/9/11 12:50       2.10          France\n",
            "541906    581587     23254         4  12/9/11 12:50       4.15          France\n",
            "541907    581587     23255         4  12/9/11 12:50       4.15          France\n",
            "541908    581587     22138         3  12/9/11 12:50       4.95          France\n",
            "\n",
            "[541909 rows x 6 columns]\n"
          ]
        }
      ]
    },
    {
      "cell_type": "markdown",
      "source": [
        "El código anterior elimina columnas con datos faltantes, para el caso las columnas afectadas son: Description y CustomerId"
      ],
      "metadata": {
        "id": "e9iyQbNkpzN8"
      }
    },
    {
      "cell_type": "code",
      "source": [
        "#Otra opción para manejar la ausencia de datos es la de llenar esta parte de la informacion\n",
        "#se puede llenar esta información con el valor 0\n",
        "\n",
        "retail_data_fillef_zeros = retail_data.fillna(0)\n",
        "print('Datos con valores faltantes reemplazados por 0 \\n',retail_data_fillef_zeros)"
      ],
      "metadata": {
        "colab": {
          "base_uri": "https://localhost:8080/"
        },
        "id": "FAfiWpxcqILT",
        "outputId": "7cc28c35-bef3-476b-ab12-9ca87fd57ba0"
      },
      "execution_count": 6,
      "outputs": [
        {
          "output_type": "stream",
          "name": "stdout",
          "text": [
            "Datos con valores faltantes reemplazados por 0 \n",
            "        InvoiceNo StockCode                          Description  Quantity  \\\n",
            "0         536365    85123A   WHITE HANGING HEART T-LIGHT HOLDER         6   \n",
            "1         536365     71053                  WHITE METAL LANTERN         6   \n",
            "2         536365    84406B       CREAM CUPID HEARTS COAT HANGER         8   \n",
            "3         536365    84029G  KNITTED UNION FLAG HOT WATER BOTTLE         6   \n",
            "4         536365    84029E       RED WOOLLY HOTTIE WHITE HEART.         6   \n",
            "...          ...       ...                                  ...       ...   \n",
            "541904    581587     22613          PACK OF 20 SPACEBOY NAPKINS        12   \n",
            "541905    581587     22899         CHILDREN'S APRON DOLLY GIRL          6   \n",
            "541906    581587     23254        CHILDRENS CUTLERY DOLLY GIRL          4   \n",
            "541907    581587     23255      CHILDRENS CUTLERY CIRCUS PARADE         4   \n",
            "541908    581587     22138        BAKING SET 9 PIECE RETROSPOT          3   \n",
            "\n",
            "          InvoiceDate  UnitPrice  CustomerID         Country  \n",
            "0        12/1/10 8:26       2.55     17850.0  United Kingdom  \n",
            "1        12/1/10 8:26       3.39     17850.0  United Kingdom  \n",
            "2        12/1/10 8:26       2.75     17850.0  United Kingdom  \n",
            "3        12/1/10 8:26       3.39     17850.0  United Kingdom  \n",
            "4        12/1/10 8:26       3.39     17850.0  United Kingdom  \n",
            "...               ...        ...         ...             ...  \n",
            "541904  12/9/11 12:50       0.85     12680.0          France  \n",
            "541905  12/9/11 12:50       2.10     12680.0          France  \n",
            "541906  12/9/11 12:50       4.15     12680.0          France  \n",
            "541907  12/9/11 12:50       4.15     12680.0          France  \n",
            "541908  12/9/11 12:50       4.95     12680.0          France  \n",
            "\n",
            "[541909 rows x 8 columns]\n"
          ]
        }
      ]
    },
    {
      "cell_type": "code",
      "source": [
        "retail_data_fillef_zeros = retail_data.fillna(0)\n",
        "retail_data_fillef_zeros_count = retail_data_fillef_zeros.isna().sum()#Conteo de datos faltantes por columna\n",
        "print(retail_data_fillef_zeros_count)"
      ],
      "metadata": {
        "colab": {
          "base_uri": "https://localhost:8080/"
        },
        "id": "BqAvK_UFqpKB",
        "outputId": "82feca3d-16f9-432b-83b4-52dcbc8e1dfd"
      },
      "execution_count": 8,
      "outputs": [
        {
          "output_type": "stream",
          "name": "stdout",
          "text": [
            "InvoiceNo      0\n",
            "StockCode      0\n",
            "Description    0\n",
            "Quantity       0\n",
            "InvoiceDate    0\n",
            "UnitPrice      0\n",
            "CustomerID     0\n",
            "Country        0\n",
            "dtype: int64\n"
          ]
        }
      ]
    },
    {
      "cell_type": "code",
      "source": [
        "#Otra opción es la de completar los datos faltantes con la media de la columna\n",
        "\n",
        "mean_unit_price = retail_data['UnitPrice'].mean()# ejemplo para la columna del precio unitario\n",
        "retail_data_filled_mean = retail_data['UnitPrice'].fillna(mean_unit_price)\n",
        "print('Datos con valores faltantes reemplazados por la media \\n',retail_data_filled_mean)\n",
        "\n"
      ],
      "metadata": {
        "colab": {
          "base_uri": "https://localhost:8080/"
        },
        "id": "LB8EyYnIrPR6",
        "outputId": "0a3d0321-5f19-42da-c5e5-4098b4f9b3cd"
      },
      "execution_count": 9,
      "outputs": [
        {
          "output_type": "stream",
          "name": "stdout",
          "text": [
            "Datos con valores faltantes reemplazados por la media \n",
            " 0         2.55\n",
            "1         3.39\n",
            "2         2.75\n",
            "3         3.39\n",
            "4         3.39\n",
            "          ... \n",
            "541904    0.85\n",
            "541905    2.10\n",
            "541906    4.15\n",
            "541907    4.15\n",
            "541908    4.95\n",
            "Name: UnitPrice, Length: 541909, dtype: float64\n"
          ]
        }
      ]
    }
  ]
}