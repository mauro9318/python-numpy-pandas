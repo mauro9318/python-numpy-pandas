{
  "nbformat": 4,
  "nbformat_minor": 0,
  "metadata": {
    "colab": {
      "provenance": [],
      "authorship_tag": "ABX9TyPVVvOVyfoSmLWnCQ+EkDLQ",
      "include_colab_link": true
    },
    "kernelspec": {
      "name": "python3",
      "display_name": "Python 3"
    },
    "language_info": {
      "name": "python"
    }
  },
  "cells": [
    {
      "cell_type": "markdown",
      "metadata": {
        "id": "view-in-github",
        "colab_type": "text"
      },
      "source": [
        "<a href=\"https://colab.research.google.com/github/mauro9318/python-numpy-pandas/blob/main/Filtrado_de_datos_condicionales_con_Pandas.ipynb\" target=\"_parent\"><img src=\"https://colab.research.google.com/assets/colab-badge.svg\" alt=\"Open In Colab\"/></a>"
      ]
    },
    {
      "cell_type": "markdown",
      "source": [
        "El filtrado de datos es una técnica que permite extraer subconjuntos de información basandose en información lógica."
      ],
      "metadata": {
        "id": "kLyt5fnEu9pI"
      }
    },
    {
      "cell_type": "code",
      "execution_count": 4,
      "metadata": {
        "id": "cf9USw3qu8ED",
        "colab": {
          "base_uri": "https://localhost:8080/"
        },
        "outputId": "28c303ca-42f8-44d0-a86e-d059bdad5a16"
      },
      "outputs": [
        {
          "output_type": "stream",
          "name": "stderr",
          "text": [
            "<ipython-input-4-a66cb5677526>:9: UserWarning: Could not infer format, so each element will be parsed individually, falling back to `dateutil`. To ensure parsing is consistent and as-expected, please specify a format.\n",
            "  sale_data['InvoiceDate'] = pd.to_datetime(sale_data['InvoiceDate'])\n"
          ]
        },
        {
          "output_type": "stream",
          "name": "stdout",
          "text": [
            "  InvoiceNo StockCode                          Description  Quantity  \\\n",
            "0    536365    85123A   WHITE HANGING HEART T-LIGHT HOLDER         6   \n",
            "1    536365     71053                  WHITE METAL LANTERN         6   \n",
            "2    536365    84406B       CREAM CUPID HEARTS COAT HANGER         8   \n",
            "3    536365    84029G  KNITTED UNION FLAG HOT WATER BOTTLE         6   \n",
            "4    536365    84029E       RED WOOLLY HOTTIE WHITE HEART.         6   \n",
            "\n",
            "          InvoiceDate  UnitPrice  CustomerID         Country  TotalPrice  \n",
            "0 2010-12-01 08:26:00       2.55     17850.0  United Kingdom       15.30  \n",
            "1 2010-12-01 08:26:00       3.39     17850.0  United Kingdom       20.34  \n",
            "2 2010-12-01 08:26:00       2.75     17850.0  United Kingdom       22.00  \n",
            "3 2010-12-01 08:26:00       3.39     17850.0  United Kingdom       20.34  \n",
            "4 2010-12-01 08:26:00       3.39     17850.0  United Kingdom       20.34  \n"
          ]
        }
      ],
      "source": [
        "import pandas as pd\n",
        "\n",
        "#Leer el dataset de ventas desde un archivo CSV\n",
        "file_path = \"/content/Online_Retail.csv\"\n",
        "sale_data = pd.read_csv(file_path, encoding='latin-1')\n",
        "\n",
        "\n",
        "#Convertir la columna InvoiceDate a tipo datetime\n",
        "sale_data['InvoiceDate'] = pd.to_datetime(sale_data['InvoiceDate'])\n",
        "\n",
        "#Eliminar filas con valores faltantes en las columnas críticas\n",
        "sale_data.dropna(subset = ['CustomerID','InvoiceDate'],inplace=True)\n",
        "\n",
        "#crear una nueva columna TOTALPRICE\n",
        "sale_data['TotalPrice'] = sale_data['Quantity'] * sale_data['UnitPrice']\n",
        "\n",
        "print(sale_data.head())\n"
      ]
    },
    {
      "cell_type": "code",
      "source": [
        "#Filtrar ventas en UK\n",
        "\n",
        "uk_sales = sale_data[sale_data['Country'] == 'United Kingdom']\n",
        "print(uk_sales)\n"
      ],
      "metadata": {
        "colab": {
          "base_uri": "https://localhost:8080/"
        },
        "id": "WGlAfdR_q6CY",
        "outputId": "7b3eb4c3-3b45-4dd4-b77b-cd12a749c3ed"
      },
      "execution_count": 5,
      "outputs": [
        {
          "output_type": "stream",
          "name": "stdout",
          "text": [
            "       InvoiceNo StockCode                          Description  Quantity  \\\n",
            "0         536365    85123A   WHITE HANGING HEART T-LIGHT HOLDER         6   \n",
            "1         536365     71053                  WHITE METAL LANTERN         6   \n",
            "2         536365    84406B       CREAM CUPID HEARTS COAT HANGER         8   \n",
            "3         536365    84029G  KNITTED UNION FLAG HOT WATER BOTTLE         6   \n",
            "4         536365    84029E       RED WOOLLY HOTTIE WHITE HEART.         6   \n",
            "...          ...       ...                                  ...       ...   \n",
            "541889    581585     22466       FAIRY TALE COTTAGE NIGHT LIGHT        12   \n",
            "541890    581586     22061  LARGE CAKE STAND  HANGING STRAWBERY         8   \n",
            "541891    581586     23275     SET OF 3 HANGING OWLS OLLIE BEAK        24   \n",
            "541892    581586     21217        RED RETROSPOT ROUND CAKE TINS        24   \n",
            "541893    581586     20685                DOORMAT RED RETROSPOT        10   \n",
            "\n",
            "               InvoiceDate  UnitPrice  CustomerID         Country  TotalPrice  \n",
            "0      2010-12-01 08:26:00       2.55     17850.0  United Kingdom       15.30  \n",
            "1      2010-12-01 08:26:00       3.39     17850.0  United Kingdom       20.34  \n",
            "2      2010-12-01 08:26:00       2.75     17850.0  United Kingdom       22.00  \n",
            "3      2010-12-01 08:26:00       3.39     17850.0  United Kingdom       20.34  \n",
            "4      2010-12-01 08:26:00       3.39     17850.0  United Kingdom       20.34  \n",
            "...                    ...        ...         ...             ...         ...  \n",
            "541889 2011-12-09 12:31:00       1.95     15804.0  United Kingdom       23.40  \n",
            "541890 2011-12-09 12:49:00       2.95     13113.0  United Kingdom       23.60  \n",
            "541891 2011-12-09 12:49:00       1.25     13113.0  United Kingdom       30.00  \n",
            "541892 2011-12-09 12:49:00       8.95     13113.0  United Kingdom      214.80  \n",
            "541893 2011-12-09 12:49:00       7.08     13113.0  United Kingdom       70.80  \n",
            "\n",
            "[361878 rows x 9 columns]\n"
          ]
        }
      ]
    },
    {
      "cell_type": "code",
      "source": [
        "#Filtrar ventas con precio unitario mayor a 10\n",
        "high_quantity_sales = uk_sales[uk_sales['Quantity'] > 10]\n",
        "print(high_quantity_sales)"
      ],
      "metadata": {
        "colab": {
          "base_uri": "https://localhost:8080/"
        },
        "id": "5uSBz3DwrZN4",
        "outputId": "05c6bbe9-a2f2-46f5-9494-6bb6e30a67e9"
      },
      "execution_count": 7,
      "outputs": [
        {
          "output_type": "stream",
          "name": "stdout",
          "text": [
            "       InvoiceNo StockCode                        Description  Quantity  \\\n",
            "9         536367     84879      ASSORTED COLOUR BIRD ORNAMENT        32   \n",
            "46        536371     22086    PAPER CHAIN KIT 50'S CHRISTMAS         80   \n",
            "65        536374     21258         VICTORIAN SEWING BOX LARGE        32   \n",
            "82        536376     22114  HOT WATER BOTTLE TEA AND SYMPATHY        48   \n",
            "83        536376     21733   RED HANGING HEART T-LIGHT HOLDER        64   \n",
            "...          ...       ...                                ...       ...   \n",
            "541886    581585     22398         MAGNETS PACK OF 4 SWALLOWS        12   \n",
            "541888    581585     23145     ZINC T-LIGHT HOLDER STAR LARGE        12   \n",
            "541889    581585     22466     FAIRY TALE COTTAGE NIGHT LIGHT        12   \n",
            "541891    581586     23275   SET OF 3 HANGING OWLS OLLIE BEAK        24   \n",
            "541892    581586     21217      RED RETROSPOT ROUND CAKE TINS        24   \n",
            "\n",
            "               InvoiceDate  UnitPrice  CustomerID         Country  TotalPrice  \n",
            "9      2010-12-01 08:34:00       1.69     13047.0  United Kingdom       54.08  \n",
            "46     2010-12-01 09:00:00       2.55     13748.0  United Kingdom      204.00  \n",
            "65     2010-12-01 09:09:00      10.95     15100.0  United Kingdom      350.40  \n",
            "82     2010-12-01 09:32:00       3.45     15291.0  United Kingdom      165.60  \n",
            "83     2010-12-01 09:32:00       2.55     15291.0  United Kingdom      163.20  \n",
            "...                    ...        ...         ...             ...         ...  \n",
            "541886 2011-12-09 12:31:00       0.39     15804.0  United Kingdom        4.68  \n",
            "541888 2011-12-09 12:31:00       0.95     15804.0  United Kingdom       11.40  \n",
            "541889 2011-12-09 12:31:00       1.95     15804.0  United Kingdom       23.40  \n",
            "541891 2011-12-09 12:49:00       1.25     13113.0  United Kingdom       30.00  \n",
            "541892 2011-12-09 12:49:00       8.95     13113.0  United Kingdom      214.80  \n",
            "\n",
            "[104101 rows x 9 columns]\n"
          ]
        }
      ]
    },
    {
      "cell_type": "code",
      "source": [
        "#filtrado para el país y valor\n",
        "uk_high_quantity_sales = sale_data[(sale_data['Country'] == 'United Kingdom') &\n",
        "                                  (sale_data['Quantity'] > 40)]\n",
        "\n",
        "print(uk_high_quantity_sales)"
      ],
      "metadata": {
        "colab": {
          "base_uri": "https://localhost:8080/"
        },
        "id": "j7EQfNT0rpOu",
        "outputId": "e1c04cbb-e343-4a97-f22d-bce3c879c5f9"
      },
      "execution_count": 10,
      "outputs": [
        {
          "output_type": "stream",
          "name": "stdout",
          "text": [
            "       InvoiceNo StockCode                          Description  Quantity  \\\n",
            "46        536371     22086      PAPER CHAIN KIT 50'S CHRISTMAS         80   \n",
            "82        536376     22114    HOT WATER BOTTLE TEA AND SYMPATHY        48   \n",
            "83        536376     21733     RED HANGING HEART T-LIGHT HOLDER        64   \n",
            "96        536378     21212      PACK OF 72 RETROSPOT CAKE CASES       120   \n",
            "101       536378    85183B  CHARLIE & LOLA WASTEPAPER BIN FLORA        48   \n",
            "...          ...       ...                                  ...       ...   \n",
            "541746    581571     23167       SMALL CERAMIC TOP STORAGE JAR         96   \n",
            "541747    581571     21314        SMALL GLASS HEART TRINKET POT        48   \n",
            "541751    581572     23328   SET 6 SCHOOL MILK BOTTLES IN CRATE        48   \n",
            "541867    581584     20832     RED FLOCK LOVE HEART PHOTO FRAME        72   \n",
            "541868    581584     85038      6 CHOCOLATE LOVE HEART T-LIGHTS        48   \n",
            "\n",
            "               InvoiceDate  UnitPrice  CustomerID         Country  TotalPrice  \n",
            "46     2010-12-01 09:00:00       2.55     13748.0  United Kingdom      204.00  \n",
            "82     2010-12-01 09:32:00       3.45     15291.0  United Kingdom      165.60  \n",
            "83     2010-12-01 09:32:00       2.55     15291.0  United Kingdom      163.20  \n",
            "96     2010-12-01 09:37:00       0.42     14688.0  United Kingdom       50.40  \n",
            "101    2010-12-01 09:37:00       1.25     14688.0  United Kingdom       60.00  \n",
            "...                    ...        ...         ...             ...         ...  \n",
            "541746 2011-12-09 12:00:00       0.69     15311.0  United Kingdom       66.24  \n",
            "541747 2011-12-09 12:00:00       1.85     15311.0  United Kingdom       88.80  \n",
            "541751 2011-12-09 12:08:00       3.39     16705.0  United Kingdom      162.72  \n",
            "541867 2011-12-09 12:25:00       0.72     13777.0  United Kingdom       51.84  \n",
            "541868 2011-12-09 12:25:00       1.85     13777.0  United Kingdom       88.80  \n",
            "\n",
            "[14245 rows x 9 columns]\n"
          ]
        }
      ]
    },
    {
      "cell_type": "code",
      "source": [
        "#filtracion de ventas 2011\n",
        "\n",
        "sales_2011 = sale_data[sale_data['InvoiceDate'].dt.year == 2011]\n",
        "print(sales_2011)"
      ],
      "metadata": {
        "colab": {
          "base_uri": "https://localhost:8080/"
        },
        "id": "uR--tORGsSbn",
        "outputId": "38aa6a29-3815-4956-e16e-f766a20eac3a"
      },
      "execution_count": 11,
      "outputs": [
        {
          "output_type": "stream",
          "name": "stdout",
          "text": [
            "       InvoiceNo StockCode                      Description  Quantity  \\\n",
            "42481     539993     22386          JUMBO BAG PINK POLKADOT        10   \n",
            "42482     539993     21499               BLUE POLKADOT WRAP        25   \n",
            "42483     539993     21498              RED RETROSPOT WRAP         25   \n",
            "42484     539993     22379         RECYCLING BAG RETROSPOT          5   \n",
            "42485     539993     20718        RED RETROSPOT SHOPPER BAG        10   \n",
            "...          ...       ...                              ...       ...   \n",
            "541904    581587     22613      PACK OF 20 SPACEBOY NAPKINS        12   \n",
            "541905    581587     22899     CHILDREN'S APRON DOLLY GIRL          6   \n",
            "541906    581587     23254    CHILDRENS CUTLERY DOLLY GIRL          4   \n",
            "541907    581587     23255  CHILDRENS CUTLERY CIRCUS PARADE         4   \n",
            "541908    581587     22138    BAKING SET 9 PIECE RETROSPOT          3   \n",
            "\n",
            "               InvoiceDate  UnitPrice  CustomerID         Country  TotalPrice  \n",
            "42481  2011-01-04 10:00:00       1.95     13313.0  United Kingdom       19.50  \n",
            "42482  2011-01-04 10:00:00       0.42     13313.0  United Kingdom       10.50  \n",
            "42483  2011-01-04 10:00:00       0.42     13313.0  United Kingdom       10.50  \n",
            "42484  2011-01-04 10:00:00       2.10     13313.0  United Kingdom       10.50  \n",
            "42485  2011-01-04 10:00:00       1.25     13313.0  United Kingdom       12.50  \n",
            "...                    ...        ...         ...             ...         ...  \n",
            "541904 2011-12-09 12:50:00       0.85     12680.0          France       10.20  \n",
            "541905 2011-12-09 12:50:00       2.10     12680.0          France       12.60  \n",
            "541906 2011-12-09 12:50:00       4.15     12680.0          France       16.60  \n",
            "541907 2011-12-09 12:50:00       4.15     12680.0          France       16.60  \n",
            "541908 2011-12-09 12:50:00       4.95     12680.0          France       14.85  \n",
            "\n",
            "[379979 rows x 9 columns]\n"
          ]
        }
      ]
    },
    {
      "cell_type": "code",
      "source": [
        "sales_2010 = sale_data[sale_data['InvoiceDate'].dt.year == 2010]\n",
        "print(sales_2010)"
      ],
      "metadata": {
        "colab": {
          "base_uri": "https://localhost:8080/"
        },
        "id": "6HlnLvbKsg-X",
        "outputId": "470ca4f6-c142-41d3-a7f9-744f803949c5"
      },
      "execution_count": 12,
      "outputs": [
        {
          "output_type": "stream",
          "name": "stdout",
          "text": [
            "      InvoiceNo StockCode                          Description  Quantity  \\\n",
            "0        536365    85123A   WHITE HANGING HEART T-LIGHT HOLDER         6   \n",
            "1        536365     71053                  WHITE METAL LANTERN         6   \n",
            "2        536365    84406B       CREAM CUPID HEARTS COAT HANGER         8   \n",
            "3        536365    84029G  KNITTED UNION FLAG HOT WATER BOTTLE         6   \n",
            "4        536365    84029E       RED WOOLLY HOTTIE WHITE HEART.         6   \n",
            "...         ...       ...                                  ...       ...   \n",
            "42448    539988     84380    SET OF 3 BUTTERFLY COOKIE CUTTERS         1   \n",
            "42449    539988    84849D                HOT BATHS SOAP HOLDER         1   \n",
            "42450    539988    84849B               FAIRY SOAP SOAP HOLDER         1   \n",
            "42451    539988     22854          CREAM SWEETHEART EGG HOLDER         2   \n",
            "42452    539988    47559B                  TEA TIME OVEN GLOVE         2   \n",
            "\n",
            "              InvoiceDate  UnitPrice  CustomerID         Country  TotalPrice  \n",
            "0     2010-12-01 08:26:00       2.55     17850.0  United Kingdom       15.30  \n",
            "1     2010-12-01 08:26:00       3.39     17850.0  United Kingdom       20.34  \n",
            "2     2010-12-01 08:26:00       2.75     17850.0  United Kingdom       22.00  \n",
            "3     2010-12-01 08:26:00       3.39     17850.0  United Kingdom       20.34  \n",
            "4     2010-12-01 08:26:00       3.39     17850.0  United Kingdom       20.34  \n",
            "...                   ...        ...         ...             ...         ...  \n",
            "42448 2010-12-23 16:06:00       1.25     18116.0  United Kingdom        1.25  \n",
            "42449 2010-12-23 16:06:00       1.69     18116.0  United Kingdom        1.69  \n",
            "42450 2010-12-23 16:06:00       1.69     18116.0  United Kingdom        1.69  \n",
            "42451 2010-12-23 16:06:00       4.95     18116.0  United Kingdom        9.90  \n",
            "42452 2010-12-23 16:06:00       1.25     18116.0  United Kingdom        2.50  \n",
            "\n",
            "[26850 rows x 9 columns]\n"
          ]
        }
      ]
    },
    {
      "cell_type": "code",
      "source": [
        "#filtrado por mes y año\n",
        "\n",
        "sales_dec_2010 = sale_data[(sale_data['InvoiceDate'].dt.year == 2010)&\n",
        "                           (sale_data['InvoiceDate'].dt.month == 12)]\n",
        "\n",
        "print(sales_dec_2010)"
      ],
      "metadata": {
        "colab": {
          "base_uri": "https://localhost:8080/"
        },
        "id": "bGl_JiXDsmb3",
        "outputId": "788cf894-2140-4065-f385-a5cb9d1c2853"
      },
      "execution_count": 13,
      "outputs": [
        {
          "output_type": "stream",
          "name": "stdout",
          "text": [
            "      InvoiceNo StockCode                          Description  Quantity  \\\n",
            "0        536365    85123A   WHITE HANGING HEART T-LIGHT HOLDER         6   \n",
            "1        536365     71053                  WHITE METAL LANTERN         6   \n",
            "2        536365    84406B       CREAM CUPID HEARTS COAT HANGER         8   \n",
            "3        536365    84029G  KNITTED UNION FLAG HOT WATER BOTTLE         6   \n",
            "4        536365    84029E       RED WOOLLY HOTTIE WHITE HEART.         6   \n",
            "...         ...       ...                                  ...       ...   \n",
            "42448    539988     84380    SET OF 3 BUTTERFLY COOKIE CUTTERS         1   \n",
            "42449    539988    84849D                HOT BATHS SOAP HOLDER         1   \n",
            "42450    539988    84849B               FAIRY SOAP SOAP HOLDER         1   \n",
            "42451    539988     22854          CREAM SWEETHEART EGG HOLDER         2   \n",
            "42452    539988    47559B                  TEA TIME OVEN GLOVE         2   \n",
            "\n",
            "              InvoiceDate  UnitPrice  CustomerID         Country  TotalPrice  \n",
            "0     2010-12-01 08:26:00       2.55     17850.0  United Kingdom       15.30  \n",
            "1     2010-12-01 08:26:00       3.39     17850.0  United Kingdom       20.34  \n",
            "2     2010-12-01 08:26:00       2.75     17850.0  United Kingdom       22.00  \n",
            "3     2010-12-01 08:26:00       3.39     17850.0  United Kingdom       20.34  \n",
            "4     2010-12-01 08:26:00       3.39     17850.0  United Kingdom       20.34  \n",
            "...                   ...        ...         ...             ...         ...  \n",
            "42448 2010-12-23 16:06:00       1.25     18116.0  United Kingdom        1.25  \n",
            "42449 2010-12-23 16:06:00       1.69     18116.0  United Kingdom        1.69  \n",
            "42450 2010-12-23 16:06:00       1.69     18116.0  United Kingdom        1.69  \n",
            "42451 2010-12-23 16:06:00       4.95     18116.0  United Kingdom        9.90  \n",
            "42452 2010-12-23 16:06:00       1.25     18116.0  United Kingdom        2.50  \n",
            "\n",
            "[26850 rows x 9 columns]\n"
          ]
        }
      ]
    }
  ]
}