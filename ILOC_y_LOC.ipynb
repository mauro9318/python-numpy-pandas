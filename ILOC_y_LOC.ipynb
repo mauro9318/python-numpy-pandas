{
  "nbformat": 4,
  "nbformat_minor": 0,
  "metadata": {
    "colab": {
      "provenance": [],
      "authorship_tag": "ABX9TyMCfMN5A0G8x4+nJcXhhWGR",
      "include_colab_link": true
    },
    "kernelspec": {
      "name": "python3",
      "display_name": "Python 3"
    },
    "language_info": {
      "name": "python"
    }
  },
  "cells": [
    {
      "cell_type": "markdown",
      "metadata": {
        "id": "view-in-github",
        "colab_type": "text"
      },
      "source": [
        "<a href=\"https://colab.research.google.com/github/mauro9318/python-numpy-pandas/blob/main/ILOC_y_LOC.ipynb\" target=\"_parent\"><img src=\"https://colab.research.google.com/assets/colab-badge.svg\" alt=\"Open In Colab\"/></a>"
      ]
    },
    {
      "cell_type": "markdown",
      "source": [
        "Seleccionar datos con dataframes se lo puede realizar de distintas maneras, pero las mas comunes son las herramientas ILOC y LOC.\n",
        "**ILOC**.- permite extraer la información del dataframe especificando el índice.\n",
        "**LOC**.- permite extraer la información del dataframe considerando la etiqueta considerando las filas y columnas."
      ],
      "metadata": {
        "id": "5KXEz3wJhBTe"
      }
    },
    {
      "cell_type": "code",
      "source": [],
      "metadata": {
        "id": "EHPUoA6sizok"
      },
      "execution_count": null,
      "outputs": []
    },
    {
      "cell_type": "code",
      "source": [
        "import pandas as pd\n",
        "\n",
        "path = '/content/Online_Retail.csv'\n",
        "retail_data = pd.read_csv(path, encoding='latin-1')\n",
        "print(retail_data)"
      ],
      "metadata": {
        "colab": {
          "base_uri": "https://localhost:8080/"
        },
        "id": "9EwQrSmPi4VM",
        "outputId": "4718c502-28a1-4124-bb37-b369a8122aaa"
      },
      "execution_count": 1,
      "outputs": [
        {
          "output_type": "stream",
          "name": "stdout",
          "text": [
            "       InvoiceNo StockCode                          Description  Quantity  \\\n",
            "0         536365    85123A   WHITE HANGING HEART T-LIGHT HOLDER         6   \n",
            "1         536365     71053                  WHITE METAL LANTERN         6   \n",
            "2         536365    84406B       CREAM CUPID HEARTS COAT HANGER         8   \n",
            "3         536365    84029G  KNITTED UNION FLAG HOT WATER BOTTLE         6   \n",
            "4         536365    84029E       RED WOOLLY HOTTIE WHITE HEART.         6   \n",
            "...          ...       ...                                  ...       ...   \n",
            "541904    581587     22613          PACK OF 20 SPACEBOY NAPKINS        12   \n",
            "541905    581587     22899         CHILDREN'S APRON DOLLY GIRL          6   \n",
            "541906    581587     23254        CHILDRENS CUTLERY DOLLY GIRL          4   \n",
            "541907    581587     23255      CHILDRENS CUTLERY CIRCUS PARADE         4   \n",
            "541908    581587     22138        BAKING SET 9 PIECE RETROSPOT          3   \n",
            "\n",
            "          InvoiceDate  UnitPrice  CustomerID         Country  \n",
            "0        12/1/10 8:26       2.55     17850.0  United Kingdom  \n",
            "1        12/1/10 8:26       3.39     17850.0  United Kingdom  \n",
            "2        12/1/10 8:26       2.75     17850.0  United Kingdom  \n",
            "3        12/1/10 8:26       3.39     17850.0  United Kingdom  \n",
            "4        12/1/10 8:26       3.39     17850.0  United Kingdom  \n",
            "...               ...        ...         ...             ...  \n",
            "541904  12/9/11 12:50       0.85     12680.0          France  \n",
            "541905  12/9/11 12:50       2.10     12680.0          France  \n",
            "541906  12/9/11 12:50       4.15     12680.0          France  \n",
            "541907  12/9/11 12:50       4.15     12680.0          France  \n",
            "541908  12/9/11 12:50       4.95     12680.0          France  \n",
            "\n",
            "[541909 rows x 8 columns]\n"
          ]
        }
      ]
    },
    {
      "cell_type": "code",
      "source": [
        "first_row = retail_data.iloc[0]#código que selecciona la primera fila de la base de datos\n",
        "print(first_row)"
      ],
      "metadata": {
        "id": "7Fyn89-rh278",
        "colab": {
          "base_uri": "https://localhost:8080/"
        },
        "outputId": "329a4567-b7c1-4d97-bd67-d8280f727272"
      },
      "execution_count": 2,
      "outputs": [
        {
          "output_type": "stream",
          "name": "stdout",
          "text": [
            "InvoiceNo                                  536365\n",
            "StockCode                                  85123A\n",
            "Description    WHITE HANGING HEART T-LIGHT HOLDER\n",
            "Quantity                                        6\n",
            "InvoiceDate                          12/1/10 8:26\n",
            "UnitPrice                                    2.55\n",
            "CustomerID                                17850.0\n",
            "Country                            United Kingdom\n",
            "Name: 0, dtype: object\n"
          ]
        }
      ]
    },
    {
      "cell_type": "code",
      "source": [
        "first_five = retail_data.iloc[:5]#código que selecciona las primeras 5 fila de la base de datos\n",
        "print(first_five)"
      ],
      "metadata": {
        "colab": {
          "base_uri": "https://localhost:8080/"
        },
        "id": "HG4epVAjjUAF",
        "outputId": "31486cf2-eca1-4e02-e7d3-c36af2c0962f"
      },
      "execution_count": 4,
      "outputs": [
        {
          "output_type": "stream",
          "name": "stdout",
          "text": [
            "  InvoiceNo StockCode                          Description  Quantity  \\\n",
            "0    536365    85123A   WHITE HANGING HEART T-LIGHT HOLDER         6   \n",
            "1    536365     71053                  WHITE METAL LANTERN         6   \n",
            "2    536365    84406B       CREAM CUPID HEARTS COAT HANGER         8   \n",
            "3    536365    84029G  KNITTED UNION FLAG HOT WATER BOTTLE         6   \n",
            "4    536365    84029E       RED WOOLLY HOTTIE WHITE HEART.         6   \n",
            "\n",
            "    InvoiceDate  UnitPrice  CustomerID         Country  \n",
            "0  12/1/10 8:26       2.55     17850.0  United Kingdom  \n",
            "1  12/1/10 8:26       3.39     17850.0  United Kingdom  \n",
            "2  12/1/10 8:26       2.75     17850.0  United Kingdom  \n",
            "3  12/1/10 8:26       3.39     17850.0  United Kingdom  \n",
            "4  12/1/10 8:26       3.39     17850.0  United Kingdom  \n"
          ]
        }
      ]
    },
    {
      "cell_type": "code",
      "source": [
        "subset = retail_data.iloc[:3, :2] #imprime las 3 primeras filas y las 2 primeras columnas\n",
        "print(subset)\n",
        "\n",
        "\n"
      ],
      "metadata": {
        "colab": {
          "base_uri": "https://localhost:8080/"
        },
        "id": "Z0gRCzsOjltE",
        "outputId": "f5cdaebc-b79f-4a2f-deee-3422d3cfb9d7"
      },
      "execution_count": 5,
      "outputs": [
        {
          "output_type": "stream",
          "name": "stdout",
          "text": [
            "  InvoiceNo StockCode\n",
            "0    536365    85123A\n",
            "1    536365     71053\n",
            "2    536365    84406B\n"
          ]
        }
      ]
    },
    {
      "cell_type": "code",
      "source": [
        "retail_value= retail_data.iloc[1,3]#muestra el valor de la segunda fila y cuarta columna\n",
        "print(retail_value)\n",
        "\n",
        "retail_value1= retail_data.iloc[2,4]#muestra el valor de la tercera fila y quinta columna\n",
        "print(retail_value1)"
      ],
      "metadata": {
        "colab": {
          "base_uri": "https://localhost:8080/"
        },
        "id": "9U2hfkitkS6j",
        "outputId": "5e0baadb-3c67-45af-98fe-1e1ce909b320"
      },
      "execution_count": 7,
      "outputs": [
        {
          "output_type": "stream",
          "name": "stdout",
          "text": [
            "6\n",
            "12/1/10 8:26\n"
          ]
        }
      ]
    },
    {
      "cell_type": "markdown",
      "source": [
        "Selección de filas con LOC"
      ],
      "metadata": {
        "id": "u7z_c6q9lEi7"
      }
    },
    {
      "cell_type": "code",
      "source": [
        "row_index_3 = retail_data.loc[3]#muestra la fila 3\n",
        "print(row_index_3)"
      ],
      "metadata": {
        "colab": {
          "base_uri": "https://localhost:8080/"
        },
        "id": "Zz044UYzlIW-",
        "outputId": "50771092-7df1-46cf-d008-6a8f6f3a5206"
      },
      "execution_count": 8,
      "outputs": [
        {
          "output_type": "stream",
          "name": "stdout",
          "text": [
            "InvoiceNo                                   536365\n",
            "StockCode                                   84029G\n",
            "Description    KNITTED UNION FLAG HOT WATER BOTTLE\n",
            "Quantity                                         6\n",
            "InvoiceDate                           12/1/10 8:26\n",
            "UnitPrice                                     3.39\n",
            "CustomerID                                 17850.0\n",
            "Country                             United Kingdom\n",
            "Name: 3, dtype: object\n"
          ]
        }
      ]
    },
    {
      "cell_type": "code",
      "source": [
        "row_index_0_4 = retail_data.loc[:4]#muestra la filas 0 al 4\n",
        "print(row_index_0_4)"
      ],
      "metadata": {
        "colab": {
          "base_uri": "https://localhost:8080/"
        },
        "id": "GxfK1HAelWZi",
        "outputId": "ee37b355-792f-4cfa-faee-ee57654707ff"
      },
      "execution_count": 9,
      "outputs": [
        {
          "output_type": "stream",
          "name": "stdout",
          "text": [
            "  InvoiceNo StockCode                          Description  Quantity  \\\n",
            "0    536365    85123A   WHITE HANGING HEART T-LIGHT HOLDER         6   \n",
            "1    536365     71053                  WHITE METAL LANTERN         6   \n",
            "2    536365    84406B       CREAM CUPID HEARTS COAT HANGER         8   \n",
            "3    536365    84029G  KNITTED UNION FLAG HOT WATER BOTTLE         6   \n",
            "4    536365    84029E       RED WOOLLY HOTTIE WHITE HEART.         6   \n",
            "\n",
            "    InvoiceDate  UnitPrice  CustomerID         Country  \n",
            "0  12/1/10 8:26       2.55     17850.0  United Kingdom  \n",
            "1  12/1/10 8:26       3.39     17850.0  United Kingdom  \n",
            "2  12/1/10 8:26       2.75     17850.0  United Kingdom  \n",
            "3  12/1/10 8:26       3.39     17850.0  United Kingdom  \n",
            "4  12/1/10 8:26       3.39     17850.0  United Kingdom  \n"
          ]
        }
      ]
    },
    {
      "cell_type": "code",
      "source": [
        "quantity_column = retail_data.loc[:,'Quantity']#seleccionamos la columna en estudio\n",
        "print(quantity_column)                         #sin el uso de la coma, la sentencia seleccionara todas las columnas hasta la especificada"
      ],
      "metadata": {
        "colab": {
          "base_uri": "https://localhost:8080/"
        },
        "id": "N5wdb3qilmaL",
        "outputId": "f5091ab8-7d36-4e98-bf55-50d70edaa473"
      },
      "execution_count": 11,
      "outputs": [
        {
          "output_type": "stream",
          "name": "stdout",
          "text": [
            "0          6\n",
            "1          6\n",
            "2          8\n",
            "3          6\n",
            "4          6\n",
            "          ..\n",
            "541904    12\n",
            "541905     6\n",
            "541906     4\n",
            "541907     4\n",
            "541908     3\n",
            "Name: Quantity, Length: 541909, dtype: int64\n"
          ]
        }
      ]
    },
    {
      "cell_type": "code",
      "source": [
        "quantity_column_x2 = retail_data.loc[:,['Quantity','UnitPrice']]\n",
        "print(quantity_column_x2)"
      ],
      "metadata": {
        "colab": {
          "base_uri": "https://localhost:8080/"
        },
        "id": "dJsjEBRymM2F",
        "outputId": "c0f69dc9-e610-4321-b796-4b80feb88181"
      },
      "execution_count": 12,
      "outputs": [
        {
          "output_type": "stream",
          "name": "stdout",
          "text": [
            "        Quantity  UnitPrice\n",
            "0              6       2.55\n",
            "1              6       3.39\n",
            "2              8       2.75\n",
            "3              6       3.39\n",
            "4              6       3.39\n",
            "...          ...        ...\n",
            "541904        12       0.85\n",
            "541905         6       2.10\n",
            "541906         4       4.15\n",
            "541907         4       4.15\n",
            "541908         3       4.95\n",
            "\n",
            "[541909 rows x 2 columns]\n"
          ]
        }
      ]
    }
  ]
}