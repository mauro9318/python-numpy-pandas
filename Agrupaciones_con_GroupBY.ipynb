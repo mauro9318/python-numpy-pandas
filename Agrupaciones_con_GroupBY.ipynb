{
  "nbformat": 4,
  "nbformat_minor": 0,
  "metadata": {
    "colab": {
      "provenance": [],
      "authorship_tag": "ABX9TyNmAvcTD5Dv5jUhg0S2IfsJ",
      "include_colab_link": true
    },
    "kernelspec": {
      "name": "python3",
      "display_name": "Python 3"
    },
    "language_info": {
      "name": "python"
    }
  },
  "cells": [
    {
      "cell_type": "markdown",
      "metadata": {
        "id": "view-in-github",
        "colab_type": "text"
      },
      "source": [
        "<a href=\"https://colab.research.google.com/github/mauro9318/python-numpy-pandas/blob/main/Agrupaciones_con_GroupBY.ipynb\" target=\"_parent\"><img src=\"https://colab.research.google.com/assets/colab-badge.svg\" alt=\"Open In Colab\"/></a>"
      ]
    },
    {
      "cell_type": "code",
      "execution_count": 3,
      "metadata": {
        "colab": {
          "base_uri": "https://localhost:8080/"
        },
        "id": "CLaDHvGxoJuV",
        "outputId": "27dc09c6-4e45-48b7-de0a-0c31ec1d4b6d"
      },
      "outputs": [
        {
          "output_type": "stream",
          "name": "stdout",
          "text": [
            "       InvoiceNo StockCode                          Description  Quantity  \\\n",
            "0         536365    85123A   WHITE HANGING HEART T-LIGHT HOLDER         6   \n",
            "1         536365     71053                  WHITE METAL LANTERN         6   \n",
            "2         536365    84406B       CREAM CUPID HEARTS COAT HANGER         8   \n",
            "3         536365    84029G  KNITTED UNION FLAG HOT WATER BOTTLE         6   \n",
            "4         536365    84029E       RED WOOLLY HOTTIE WHITE HEART.         6   \n",
            "...          ...       ...                                  ...       ...   \n",
            "541904    581587     22613          PACK OF 20 SPACEBOY NAPKINS        12   \n",
            "541905    581587     22899         CHILDREN'S APRON DOLLY GIRL          6   \n",
            "541906    581587     23254        CHILDRENS CUTLERY DOLLY GIRL          4   \n",
            "541907    581587     23255      CHILDRENS CUTLERY CIRCUS PARADE         4   \n",
            "541908    581587     22138        BAKING SET 9 PIECE RETROSPOT          3   \n",
            "\n",
            "          InvoiceDate  UnitPrice  CustomerID         Country  \n",
            "0        12/1/10 8:26       2.55     17850.0  United Kingdom  \n",
            "1        12/1/10 8:26       3.39     17850.0  United Kingdom  \n",
            "2        12/1/10 8:26       2.75     17850.0  United Kingdom  \n",
            "3        12/1/10 8:26       3.39     17850.0  United Kingdom  \n",
            "4        12/1/10 8:26       3.39     17850.0  United Kingdom  \n",
            "...               ...        ...         ...             ...  \n",
            "541904  12/9/11 12:50       0.85     12680.0          France  \n",
            "541905  12/9/11 12:50       2.10     12680.0          France  \n",
            "541906  12/9/11 12:50       4.15     12680.0          France  \n",
            "541907  12/9/11 12:50       4.15     12680.0          France  \n",
            "541908  12/9/11 12:50       4.95     12680.0          France  \n",
            "\n",
            "[541909 rows x 8 columns]\n"
          ]
        }
      ],
      "source": [
        "import pandas as pd\n",
        "\n",
        "df = pd.read_csv('/content/Online_Retail.csv', encoding='latin-1')\n",
        "print(df)"
      ]
    },
    {
      "cell_type": "code",
      "source": [
        "countryCount = df['Country'].value_counts() #El método value.counts permite realizar un conteo y\n",
        "print(countryCount)                         #encontrar el resultado para valores iguales de la columna en estudio"
      ],
      "metadata": {
        "colab": {
          "base_uri": "https://localhost:8080/"
        },
        "id": "7Zv7X9yEpH5Q",
        "outputId": "f4df3345-c221-4550-804f-611da751c96e"
      },
      "execution_count": 5,
      "outputs": [
        {
          "output_type": "stream",
          "name": "stdout",
          "text": [
            "Country\n",
            "United Kingdom          495478\n",
            "Germany                   9495\n",
            "France                    8557\n",
            "EIRE                      8196\n",
            "Spain                     2533\n",
            "Netherlands               2371\n",
            "Belgium                   2069\n",
            "Switzerland               2002\n",
            "Portugal                  1519\n",
            "Australia                 1259\n",
            "Norway                    1086\n",
            "Italy                      803\n",
            "Channel Islands            758\n",
            "Finland                    695\n",
            "Cyprus                     622\n",
            "Sweden                     462\n",
            "Unspecified                446\n",
            "Austria                    401\n",
            "Denmark                    389\n",
            "Japan                      358\n",
            "Poland                     341\n",
            "Israel                     297\n",
            "USA                        291\n",
            "Hong Kong                  288\n",
            "Singapore                  229\n",
            "Iceland                    182\n",
            "Canada                     151\n",
            "Greece                     146\n",
            "Malta                      127\n",
            "United Arab Emirates        68\n",
            "European Community          61\n",
            "RSA                         58\n",
            "Lebanon                     45\n",
            "Lithuania                   35\n",
            "Brazil                      32\n",
            "Czech Republic              30\n",
            "Bahrain                     19\n",
            "Saudi Arabia                10\n",
            "Name: count, dtype: int64\n"
          ]
        }
      ]
    },
    {
      "cell_type": "code",
      "source": [
        "countryGroup = df.groupby('Country')['Quantity'].sum()#Agrupamos por pais, seleccionamos la cantidad de venta\n",
        "print(countryGroup)                                   # y finalmente sumamos las ventas de todas las tiendas de u mismo país"
      ],
      "metadata": {
        "colab": {
          "base_uri": "https://localhost:8080/"
        },
        "id": "DA2ENLBqqBoP",
        "outputId": "c697c7c3-8d31-48f5-c20a-df0eed8eea17"
      },
      "execution_count": 6,
      "outputs": [
        {
          "output_type": "stream",
          "name": "stdout",
          "text": [
            "Country\n",
            "Australia                 83653\n",
            "Austria                    4827\n",
            "Bahrain                     260\n",
            "Belgium                   23152\n",
            "Brazil                      356\n",
            "Canada                     2763\n",
            "Channel Islands            9479\n",
            "Cyprus                     6317\n",
            "Czech Republic              592\n",
            "Denmark                    8188\n",
            "EIRE                     142637\n",
            "European Community          497\n",
            "Finland                   10666\n",
            "France                   110480\n",
            "Germany                  117448\n",
            "Greece                     1556\n",
            "Hong Kong                  4769\n",
            "Iceland                    2458\n",
            "Israel                     4353\n",
            "Italy                      7999\n",
            "Japan                     25218\n",
            "Lebanon                     386\n",
            "Lithuania                   652\n",
            "Malta                       944\n",
            "Netherlands              200128\n",
            "Norway                    19247\n",
            "Poland                     3653\n",
            "Portugal                  16180\n",
            "RSA                         352\n",
            "Saudi Arabia                 75\n",
            "Singapore                  5234\n",
            "Spain                     26824\n",
            "Sweden                    35637\n",
            "Switzerland               30325\n",
            "USA                        1034\n",
            "United Arab Emirates        982\n",
            "United Kingdom          4263829\n",
            "Unspecified                3300\n",
            "Name: Quantity, dtype: int64\n"
          ]
        }
      ]
    },
    {
      "cell_type": "code",
      "source": [
        "countryStats = df.groupby('Country')['UnitPrice'].agg(['mean', 'sum'])#Agrupamos por país y considerando la columna UnitPrice\n",
        "print(countryStats)                                                 # se puede calcular la media y la suma"
      ],
      "metadata": {
        "colab": {
          "base_uri": "https://localhost:8080/"
        },
        "id": "6I6gcUPmqr13",
        "outputId": "d1e3f75d-e499-46f2-d824-a55160429814"
      },
      "execution_count": 8,
      "outputs": [
        {
          "output_type": "stream",
          "name": "stdout",
          "text": [
            "                            mean          sum\n",
            "Country                                      \n",
            "Australia               3.220612     4054.750\n",
            "Austria                 4.243192     1701.520\n",
            "Bahrain                 4.556316       86.570\n",
            "Belgium                 3.644335     7540.130\n",
            "Brazil                  4.456250      142.600\n",
            "Canada                  6.030331      910.580\n",
            "Channel Islands         4.932124     3738.550\n",
            "Cyprus                  6.302363     3920.070\n",
            "Czech Republic          2.938333       88.150\n",
            "Denmark                 3.256941     1266.950\n",
            "EIRE                    5.911077    48447.190\n",
            "European Community      4.820492      294.050\n",
            "Finland                 5.448705     3786.850\n",
            "France                  5.028864    43031.990\n",
            "Germany                 3.966930    37666.000\n",
            "Greece                  4.885548      713.290\n",
            "Hong Kong              42.505208    12241.500\n",
            "Iceland                 2.644011      481.210\n",
            "Israel                  3.633131     1079.040\n",
            "Italy                   4.831121     3879.390\n",
            "Japan                   2.276145      814.860\n",
            "Lebanon                 5.387556      242.440\n",
            "Lithuania               2.841143       99.440\n",
            "Malta                   5.244173      666.010\n",
            "Netherlands             2.738317     6492.550\n",
            "Norway                  6.012026     6529.060\n",
            "Poland                  4.170880     1422.270\n",
            "Portugal                8.582976    13037.540\n",
            "RSA                     4.277586      248.100\n",
            "Saudi Arabia            2.411000       24.110\n",
            "Singapore             109.645808    25108.890\n",
            "Spain                   4.987544    12633.450\n",
            "Sweden                  3.910887     1806.830\n",
            "Switzerland             3.403442     6813.690\n",
            "USA                     2.216426      644.980\n",
            "United Arab Emirates    3.380735      229.890\n",
            "United Kingdom          4.532422  2245715.474\n",
            "Unspecified             2.699574     1204.010\n"
          ]
        }
      ]
    },
    {
      "cell_type": "code",
      "source": [
        "#Se agrupa por país y por el codigo de stock, posteriormente se realiza la suma\n",
        "# para ambos criterios\n",
        "countryStockGroup = df.groupby(['Country','StockCode'])['Quantity'].sum()\n",
        "\n",
        "print(countryStockGroup)"
      ],
      "metadata": {
        "colab": {
          "base_uri": "https://localhost:8080/"
        },
        "id": "CRutXt4NrpZI",
        "outputId": "5c34da40-dccc-4faa-d5fc-320b476ac5e2"
      },
      "execution_count": 9,
      "outputs": [
        {
          "output_type": "stream",
          "name": "stdout",
          "text": [
            "Country      StockCode\n",
            "Australia    15036        600\n",
            "             15056BL        3\n",
            "             16161P       400\n",
            "             16169E        25\n",
            "             20665          6\n",
            "                         ... \n",
            "Unspecified  85180A         2\n",
            "             85180B         1\n",
            "             85212         12\n",
            "             85213         12\n",
            "             85227         10\n",
            "Name: Quantity, Length: 19839, dtype: int64\n"
          ]
        }
      ]
    },
    {
      "cell_type": "code",
      "source": [
        "def totalRevenue(group):\n",
        "  return (group['Quantity']*group['UnitPrice']).sum()\n",
        "\n",
        "countryRevenue = df.groupby('Country').apply(totalRevenue)\n",
        "print(countryRevenue)"
      ],
      "metadata": {
        "colab": {
          "base_uri": "https://localhost:8080/"
        },
        "id": "6xCCmRdssYEQ",
        "outputId": "bbc0d2eb-d7df-46de-fd7d-b1c626913d3e"
      },
      "execution_count": 10,
      "outputs": [
        {
          "output_type": "stream",
          "name": "stdout",
          "text": [
            "Country\n",
            "Australia                137077.270\n",
            "Austria                   10154.320\n",
            "Bahrain                     548.400\n",
            "Belgium                   40910.960\n",
            "Brazil                     1143.600\n",
            "Canada                     3666.380\n",
            "Channel Islands           20086.290\n",
            "Cyprus                    12946.290\n",
            "Czech Republic              707.720\n",
            "Denmark                   18768.140\n",
            "EIRE                     263276.820\n",
            "European Community         1291.750\n",
            "Finland                   22326.740\n",
            "France                   197403.900\n",
            "Germany                  221698.210\n",
            "Greece                     4710.520\n",
            "Hong Kong                 10117.040\n",
            "Iceland                    4310.000\n",
            "Israel                     7907.820\n",
            "Italy                     16890.510\n",
            "Japan                     35340.620\n",
            "Lebanon                    1693.880\n",
            "Lithuania                  1661.060\n",
            "Malta                      2505.470\n",
            "Netherlands              284661.540\n",
            "Norway                    35163.460\n",
            "Poland                     7213.140\n",
            "Portugal                  29367.020\n",
            "RSA                        1002.310\n",
            "Saudi Arabia                131.170\n",
            "Singapore                  9120.390\n",
            "Spain                     54774.580\n",
            "Sweden                    36595.910\n",
            "Switzerland               56385.350\n",
            "USA                        1730.920\n",
            "United Arab Emirates       1902.280\n",
            "United Kingdom          8187806.364\n",
            "Unspecified                4749.790\n",
            "dtype: float64\n"
          ]
        }
      ]
    },
    {
      "cell_type": "code",
      "source": [
        "def totalRevenue(group):\n",
        "  return (group['Quantity']*group['UnitPrice']).sum()\n",
        "\n",
        "countryRevenue = df.groupby('Country').apply(totalRevenue)\n",
        "\n",
        "x = countryRevenue.sort_values(ascending=False).head(3)\n",
        "y = countryRevenue.sort_values(ascending=True).head(3)\n",
        "print(f\"Países con mejores ventas: {x}\")\n",
        "print(f\"Países con peores ventas: {y}\")"
      ],
      "metadata": {
        "colab": {
          "base_uri": "https://localhost:8080/"
        },
        "id": "HELV8ZYGttXm",
        "outputId": "c697691e-342c-4c3a-be61-47d4db385bab"
      },
      "execution_count": 11,
      "outputs": [
        {
          "output_type": "stream",
          "name": "stdout",
          "text": [
            "Países con mejores ventas: Country\n",
            "United Kingdom    8187806.364\n",
            "Netherlands        284661.540\n",
            "EIRE               263276.820\n",
            "dtype: float64\n",
            "Países con peores ventas: Country\n",
            "Saudi Arabia      131.17\n",
            "Bahrain           548.40\n",
            "Czech Republic    707.72\n",
            "dtype: float64\n"
          ]
        }
      ]
    }
  ]
}