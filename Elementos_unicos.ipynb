{
  "nbformat": 4,
  "nbformat_minor": 0,
  "metadata": {
    "colab": {
      "provenance": [],
      "authorship_tag": "ABX9TyNJcDARFFNObabPtRrgqFEb",
      "include_colab_link": true
    },
    "kernelspec": {
      "name": "python3",
      "display_name": "Python 3"
    },
    "language_info": {
      "name": "python"
    }
  },
  "cells": [
    {
      "cell_type": "markdown",
      "metadata": {
        "id": "view-in-github",
        "colab_type": "text"
      },
      "source": [
        "<a href=\"https://colab.research.google.com/github/mauro9318/python-numpy-pandas/blob/main/Elementos_unicos.ipynb\" target=\"_parent\"><img src=\"https://colab.research.google.com/assets/colab-badge.svg\" alt=\"Open In Colab\"/></a>"
      ]
    },
    {
      "cell_type": "code",
      "execution_count": 2,
      "metadata": {
        "colab": {
          "base_uri": "https://localhost:8080/"
        },
        "id": "_GrHYSS-zRJJ",
        "outputId": "f8459a72-9716-45e6-b051-0b9fa5bcd4ed"
      },
      "outputs": [
        {
          "output_type": "stream",
          "name": "stdout",
          "text": [
            "['bueno' 'excelente' 'malo']\n"
          ]
        }
      ],
      "source": [
        "import numpy as np\n",
        "\n",
        "survey_responses = np.array([\"bueno\", \"excelente\",\"malo\",\"bueno\",\"malo\",\n",
        "                             \"excelente\",\"bueno\",\"malo\"])\n",
        "\n",
        "\n",
        "print(np.unique(survey_responses))"
      ]
    },
    {
      "cell_type": "code",
      "source": [
        "unique_elements, counts = np.unique(survey_responses, return_counts=True)\n",
        "print(unique_elements)\n",
        "print(counts)"
      ],
      "metadata": {
        "colab": {
          "base_uri": "https://localhost:8080/"
        },
        "id": "3UHhCrN70_Gc",
        "outputId": "b82c7de7-4aad-45f0-8a36-67e783e74921"
      },
      "execution_count": 3,
      "outputs": [
        {
          "output_type": "stream",
          "name": "stdout",
          "text": [
            "['bueno' 'excelente' 'malo']\n",
            "[3 2 3]\n"
          ]
        }
      ]
    },
    {
      "cell_type": "code",
      "source": [
        "array_x = np.arange(10)\n",
        "view_y = array_x[1:3]\n",
        "print(array_x)\n",
        "print(view_y)\n",
        "\n",
        "array_x[1:3] = [10,50]\n",
        "print(array_x)\n",
        "print(view_y)"
      ],
      "metadata": {
        "colab": {
          "base_uri": "https://localhost:8080/"
        },
        "id": "jrl6ow221gRd",
        "outputId": "0f4a6dd7-cb0d-42a0-a91c-0a1603fccd1f"
      },
      "execution_count": 7,
      "outputs": [
        {
          "output_type": "stream",
          "name": "stdout",
          "text": [
            "[0 1 2 3 4 5 6 7 8 9]\n",
            "[1 2]\n",
            "[ 0 10 50  3  4  5  6  7  8  9]\n",
            "[10 50]\n"
          ]
        }
      ]
    },
    {
      "cell_type": "code",
      "source": [
        "array_x = np.arange(10)\n",
        "view_y = array_x[[1,3]] #para asegurar la copia de un segmento del array, se usa [[]]\n",
        "print(array_x)\n",
        "print(view_y)\n",
        "\n",
        "array_x[1:3] = [10,50]\n",
        "print(array_x)\n",
        "print(view_y)"
      ],
      "metadata": {
        "colab": {
          "base_uri": "https://localhost:8080/"
        },
        "id": "itNVlYUn2jhm",
        "outputId": "8dedf80f-1581-4cb6-c088-2ffdd306239e"
      },
      "execution_count": 8,
      "outputs": [
        {
          "output_type": "stream",
          "name": "stdout",
          "text": [
            "[0 1 2 3 4 5 6 7 8 9]\n",
            "[1 3]\n",
            "[ 0 10 50  3  4  5  6  7  8  9]\n",
            "[1 3]\n"
          ]
        }
      ]
    }
  ]
}